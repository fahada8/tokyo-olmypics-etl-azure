{
 "cells": [
  {
   "cell_type": "code",
   "execution_count": 0,
   "metadata": {
    "application/vnd.databricks.v1+cell": {
     "cellMetadata": {
      "byteLimit": 2048000,
      "rowLimit": 10000
     },
     "inputWidgets": {},
     "nuid": "1f38e776-5fb3-4c6d-a71c-738c104e3019",
     "showTitle": false,
     "title": ""
    }
   },
   "outputs": [
    {
     "output_type": "display_data",
     "data": {
      "text/html": [
       "<style scoped>\n",
       "  .table-result-container {\n",
       "    max-height: 300px;\n",
       "    overflow: auto;\n",
       "  }\n",
       "  table, th, td {\n",
       "    border: 1px solid black;\n",
       "    border-collapse: collapse;\n",
       "  }\n",
       "  th, td {\n",
       "    padding: 5px;\n",
       "  }\n",
       "  th {\n",
       "    text-align: left;\n",
       "  }\n",
       "</style><div class='table-result-container'><table class='table-result'><thead style='background-color: white'><tr><th>path</th><th>name</th><th>size</th><th>modificationTime</th></tr></thead><tbody><tr><td>dbfs:/mnt/tokyoolympic/raw-data/</td><td>raw-data/</td><td>0</td><td>1692903019000</td></tr><tr><td>dbfs:/mnt/tokyoolympic/transformed-data/</td><td>transformed-data/</td><td>0</td><td>1692903028000</td></tr></tbody></table></div>"
      ]
     },
     "metadata": {
      "application/vnd.databricks.v1+output": {
       "addedWidgets": {},
       "aggData": [],
       "aggError": "",
       "aggOverflow": false,
       "aggSchema": [],
       "aggSeriesLimitReached": false,
       "aggType": "",
       "arguments": {},
       "columnCustomDisplayInfos": {},
       "data": [
        [
         "dbfs:/mnt/tokyoolympic/raw-data/",
         "raw-data/",
         0,
         1692903019000
        ],
        [
         "dbfs:/mnt/tokyoolympic/transformed-data/",
         "transformed-data/",
         0,
         1692903028000
        ]
       ],
       "datasetInfos": [],
       "dbfsResultPath": null,
       "isJsonSchema": true,
       "metadata": {
        "isDbfsCommandResult": false
       },
       "overflow": false,
       "plotOptions": {
        "customPlotOptions": {},
        "displayType": "table",
        "pivotAggregation": null,
        "pivotColumns": null,
        "xColumns": null,
        "yColumns": null
       },
       "removedWidgets": [],
       "schema": [
        {
         "metadata": "{}",
         "name": "path",
         "type": "\"string\""
        },
        {
         "metadata": "{}",
         "name": "name",
         "type": "\"string\""
        },
        {
         "metadata": "{}",
         "name": "size",
         "type": "\"long\""
        },
        {
         "metadata": "{}",
         "name": "modificationTime",
         "type": "\"long\""
        }
       ],
       "type": "table"
      }
     },
     "output_type": "display_data"
    }
   ],
   "source": [
    "%fs\n",
    "ls \"/mnt/tokyoolympic\""
   ]
  },
  {
   "cell_type": "code",
   "execution_count": 0,
   "metadata": {
    "application/vnd.databricks.v1+cell": {
     "cellMetadata": {
      "byteLimit": 2048000,
      "rowLimit": 10000
     },
     "inputWidgets": {},
     "nuid": "db1d4c41-8cf0-454f-b770-27ae750f8d40",
     "showTitle": false,
     "title": ""
    }
   },
   "outputs": [],
   "source": [
    "from pyspark.sql.functions import *\n",
    "from pyspark.sql.types import *"
   ]
  },
  {
   "cell_type": "code",
   "execution_count": 0,
   "metadata": {
    "application/vnd.databricks.v1+cell": {
     "cellMetadata": {
      "byteLimit": 2048000,
      "rowLimit": 10000
     },
     "inputWidgets": {},
     "nuid": "4660cca5-dc4f-4d82-af1a-fa5746e0acee",
     "showTitle": false,
     "title": ""
    }
   },
   "outputs": [],
   "source": [
    "atheletes = spark.read.csv(\"/mnt/tokyoolympic/raw-data/athletes.csv\", header=True, inferSchema=True)\n",
    "coaches = spark.read.csv(\"/mnt/tokyoolympic/raw-data/coaches.csv\", header=True, inferSchema=True)\n",
    "entriesgender = spark.read.csv(\"/mnt/tokyoolympic/raw-data/entriesgender.csv\", header=True, inferSchema=True)\n",
    "medals = spark.read.csv(\"/mnt/tokyoolympic/raw-data/medals.csv\", header=True, inferSchema=True)\n",
    "teams = spark.read.csv(\"/mnt/tokyoolympic/raw-data/teams.csv\", header=True, inferSchema=True)"
   ]
  },
  {
   "cell_type": "code",
   "execution_count": 0,
   "metadata": {
    "application/vnd.databricks.v1+cell": {
     "cellMetadata": {
      "byteLimit": 2048000,
      "rowLimit": 10000
     },
     "inputWidgets": {},
     "nuid": "0851859c-0bde-4319-bf46-058bb5f5982e",
     "showTitle": true,
     "title": "Atheletes Data"
    }
   },
   "outputs": [
    {
     "output_type": "stream",
     "name": "stdout",
     "output_type": "stream",
     "text": [
      "+--------------------+--------------------+-------------------+\n|                Name|                 NOC|         Discipline|\n+--------------------+--------------------+-------------------+\n|     AALERUD Katrine|              Norway|       Cycling Road|\n|         ABAD Nestor|               Spain|Artistic Gymnastics|\n|   ABAGNALE Giovanni|               Italy|             Rowing|\n|      ABALDE Alberto|               Spain|         Basketball|\n|       ABALDE Tamara|               Spain|         Basketball|\n|           ABALO Luc|              France|           Handball|\n|        ABAROA Cesar|               Chile|             Rowing|\n|       ABASS Abobakr|               Sudan|           Swimming|\n|    ABBASALI Hamideh|Islamic Republic ...|             Karate|\n|       ABBASOV Islam|          Azerbaijan|          Wrestling|\n|        ABBINGH Lois|         Netherlands|           Handball|\n|         ABBOT Emily|           Australia|Rhythmic Gymnastics|\n|       ABBOTT Monica|United States of ...|  Baseball/Softball|\n|ABDALLA Abubaker ...|               Qatar|          Athletics|\n|      ABDALLA Maryam|               Egypt|  Artistic Swimming|\n|      ABDALLAH Shahd|               Egypt|  Artistic Swimming|\n| ABDALRASOOL Mohamed|               Sudan|               Judo|\n|   ABDEL LATIF Radwa|               Egypt|           Shooting|\n|    ABDEL RAZEK Samy|               Egypt|           Shooting|\n|   ABDELAZIZ Abdalla|               Egypt|             Karate|\n+--------------------+--------------------+-------------------+\nonly showing top 20 rows\n\n"
     ]
    }
   ],
   "source": [
    "atheletes.show()"
   ]
  },
  {
   "cell_type": "code",
   "execution_count": 0,
   "metadata": {
    "application/vnd.databricks.v1+cell": {
     "cellMetadata": {
      "byteLimit": 2048000,
      "rowLimit": 10000
     },
     "inputWidgets": {},
     "nuid": "dc53b54b-5dcd-426d-93df-58f6750f1fc2",
     "showTitle": false,
     "title": ""
    }
   },
   "outputs": [
    {
     "output_type": "stream",
     "name": "stdout",
     "output_type": "stream",
     "text": [
      "root\n |-- Name: string (nullable = true)\n |-- NOC: string (nullable = true)\n |-- Discipline: string (nullable = true)\n\n"
     ]
    }
   ],
   "source": [
    "atheletes.printSchema()"
   ]
  },
  {
   "cell_type": "code",
   "execution_count": 0,
   "metadata": {
    "application/vnd.databricks.v1+cell": {
     "cellMetadata": {
      "byteLimit": 2048000,
      "rowLimit": 10000
     },
     "inputWidgets": {},
     "nuid": "d288e0a0-536e-4fd4-8865-ae15f021e8a4",
     "showTitle": false,
     "title": ""
    }
   },
   "outputs": [],
   "source": [
    "atheletes = atheletes.withColumnRenamed('Name', 'name') \\\n",
    "                    .withColumnRenamed('NOC', 'country') \\\n",
    "                    .withColumnRenamed('Discipline', 'discipline')"
   ]
  },
  {
   "cell_type": "code",
   "execution_count": 0,
   "metadata": {
    "application/vnd.databricks.v1+cell": {
     "cellMetadata": {
      "byteLimit": 2048000,
      "rowLimit": 10000
     },
     "inputWidgets": {},
     "nuid": "280c2f47-6c89-4826-b520-12b290511f98",
     "showTitle": false,
     "title": ""
    }
   },
   "outputs": [
    {
     "output_type": "stream",
     "name": "stdout",
     "output_type": "stream",
     "text": [
      "+-----------------------+------------------------+-------------------+\n|name                   |country                 |discipline         |\n+-----------------------+------------------------+-------------------+\n|AALERUD Katrine        |Norway                  |Cycling Road       |\n|ABAD Nestor            |Spain                   |Artistic Gymnastics|\n|ABAGNALE Giovanni      |Italy                   |Rowing             |\n|ABALDE Alberto         |Spain                   |Basketball         |\n|ABALDE Tamara          |Spain                   |Basketball         |\n|ABALO Luc              |France                  |Handball           |\n|ABAROA Cesar           |Chile                   |Rowing             |\n|ABASS Abobakr          |Sudan                   |Swimming           |\n|ABBASALI Hamideh       |Islamic Republic of Iran|Karate             |\n|ABBASOV Islam          |Azerbaijan              |Wrestling          |\n|ABBINGH Lois           |Netherlands             |Handball           |\n|ABBOT Emily            |Australia               |Rhythmic Gymnastics|\n|ABBOTT Monica          |United States of America|Baseball/Softball  |\n|ABDALLA Abubaker Haydar|Qatar                   |Athletics          |\n|ABDALLA Maryam         |Egypt                   |Artistic Swimming  |\n|ABDALLAH Shahd         |Egypt                   |Artistic Swimming  |\n|ABDALRASOOL Mohamed    |Sudan                   |Judo               |\n|ABDEL LATIF Radwa      |Egypt                   |Shooting           |\n|ABDEL RAZEK Samy       |Egypt                   |Shooting           |\n|ABDELAZIZ Abdalla      |Egypt                   |Karate             |\n+-----------------------+------------------------+-------------------+\nonly showing top 20 rows\n\n"
     ]
    }
   ],
   "source": [
    "atheletes.show(truncate=False)"
   ]
  },
  {
   "cell_type": "code",
   "execution_count": 0,
   "metadata": {
    "application/vnd.databricks.v1+cell": {
     "cellMetadata": {
      "byteLimit": 2048000,
      "rowLimit": 10000
     },
     "inputWidgets": {},
     "nuid": "7976fd74-4e2b-4432-9f02-cb884ec40c4e",
     "showTitle": true,
     "title": "Coaches Data"
    }
   },
   "outputs": [
    {
     "output_type": "stream",
     "name": "stdout",
     "output_type": "stream",
     "text": [
      "+--------------------+--------------------+-----------------+--------+\n|                Name|                 NOC|       Discipline|   Event|\n+--------------------+--------------------+-----------------+--------+\n|     ABDELMAGID Wael|               Egypt|         Football|    null|\n|           ABE Junya|               Japan|       Volleyball|    null|\n|       ABE Katsuhiko|               Japan|       Basketball|    null|\n|        ADAMA Cherif|       Côte d'Ivoire|         Football|    null|\n|          AGEBA Yuya|               Japan|       Volleyball|    null|\n|AIKMAN Siegfried ...|               Japan|           Hockey|     Men|\n|       AL SAADI Kais|             Germany|           Hockey|     Men|\n|       ALAMEDA Lonni|              Canada|Baseball/Softball|Softball|\n|     ALEKNO Vladimir|Islamic Republic ...|       Volleyball|     Men|\n|     ALEKSEEV Alexey|                 ROC|         Handball|   Women|\n|ALLER CARBALLO Ma...|               Spain|       Basketball|    null|\n|       ALSHEHRI Saad|        Saudi Arabia|         Football|     Men|\n|           ALY Kamal|               Egypt|         Football|    null|\n| AMAYA GAITAN Fabian|         Puerto Rico|       Basketball|    null|\n|    AMO AGUADO Pablo|               Spain|         Football|    null|\n|   ANDONOVSKI Vlatko|United States of ...|         Football|   Women|\n|        ANNAN Alyson|         Netherlands|           Hockey|   Women|\n|  ARNAU CREUS Xavier|               Japan|           Hockey|   Women|\n|       ARNOLD Graham|           Australia|         Football|     Men|\n|         AXNER Tomas|              Sweden|         Handball|   Women|\n+--------------------+--------------------+-----------------+--------+\nonly showing top 20 rows\n\n"
     ]
    }
   ],
   "source": [
    "coaches.show()"
   ]
  },
  {
   "cell_type": "code",
   "execution_count": 0,
   "metadata": {
    "application/vnd.databricks.v1+cell": {
     "cellMetadata": {
      "byteLimit": 2048000,
      "rowLimit": 10000
     },
     "inputWidgets": {},
     "nuid": "1095bd89-ed38-4ba9-9b57-2d810caf8119",
     "showTitle": false,
     "title": ""
    }
   },
   "outputs": [
    {
     "output_type": "stream",
     "name": "stdout",
     "output_type": "stream",
     "text": [
      "root\n |-- Name: string (nullable = true)\n |-- NOC: string (nullable = true)\n |-- Discipline: string (nullable = true)\n |-- Event: string (nullable = true)\n\n"
     ]
    }
   ],
   "source": [
    "coaches.printSchema()"
   ]
  },
  {
   "cell_type": "code",
   "execution_count": 0,
   "metadata": {
    "application/vnd.databricks.v1+cell": {
     "cellMetadata": {
      "byteLimit": 2048000,
      "rowLimit": 10000
     },
     "inputWidgets": {},
     "nuid": "00cf4e8a-5c44-48f1-8278-ab7d731c60a0",
     "showTitle": false,
     "title": ""
    }
   },
   "outputs": [],
   "source": [
    "coaches = coaches.withColumnRenamed('Name', 'name') \\\n",
    "                 .withColumnRenamed('NOC', 'country') \\\n",
    "                 .withColumnRenamed('Discipline', 'discipline') \\\n",
    "                 .withColumnRenamed('Event', 'event')"
   ]
  },
  {
   "cell_type": "code",
   "execution_count": 0,
   "metadata": {
    "application/vnd.databricks.v1+cell": {
     "cellMetadata": {
      "byteLimit": 2048000,
      "rowLimit": 10000
     },
     "inputWidgets": {},
     "nuid": "ce00d2c5-6f51-449a-bf23-b81c32f536fd",
     "showTitle": false,
     "title": ""
    }
   },
   "outputs": [
    {
     "output_type": "stream",
     "name": "stdout",
     "output_type": "stream",
     "text": [
      "+---------------------------+------------------------+-----------------+--------+\n|name                       |country                 |discipline       |event   |\n+---------------------------+------------------------+-----------------+--------+\n|ABDELMAGID Wael            |Egypt                   |Football         |null    |\n|ABE Junya                  |Japan                   |Volleyball       |null    |\n|ABE Katsuhiko              |Japan                   |Basketball       |null    |\n|ADAMA Cherif               |Côte d'Ivoire           |Football         |null    |\n|AGEBA Yuya                 |Japan                   |Volleyball       |null    |\n|AIKMAN Siegfried Gottlieb  |Japan                   |Hockey           |Men     |\n|AL SAADI Kais              |Germany                 |Hockey           |Men     |\n|ALAMEDA Lonni              |Canada                  |Baseball/Softball|Softball|\n|ALEKNO Vladimir            |Islamic Republic of Iran|Volleyball       |Men     |\n|ALEKSEEV Alexey            |ROC                     |Handball         |Women   |\n|ALLER CARBALLO Manuel Angel|Spain                   |Basketball       |null    |\n|ALSHEHRI Saad              |Saudi Arabia            |Football         |Men     |\n|ALY Kamal                  |Egypt                   |Football         |null    |\n|AMAYA GAITAN Fabian        |Puerto Rico             |Basketball       |null    |\n|AMO AGUADO Pablo           |Spain                   |Football         |null    |\n|ANDONOVSKI Vlatko          |United States of America|Football         |Women   |\n|ANNAN Alyson               |Netherlands             |Hockey           |Women   |\n|ARNAU CREUS Xavier         |Japan                   |Hockey           |Women   |\n|ARNOLD Graham              |Australia               |Football         |Men     |\n|AXNER Tomas                |Sweden                  |Handball         |Women   |\n+---------------------------+------------------------+-----------------+--------+\nonly showing top 20 rows\n\n"
     ]
    }
   ],
   "source": [
    "coaches.show(truncate=False)"
   ]
  },
  {
   "cell_type": "code",
   "execution_count": 0,
   "metadata": {
    "application/vnd.databricks.v1+cell": {
     "cellMetadata": {
      "byteLimit": 2048000,
      "rowLimit": 10000
     },
     "inputWidgets": {},
     "nuid": "cc307ed2-1558-4083-ba1d-1c47b1053d93",
     "showTitle": true,
     "title": "SparkSQL"
    }
   },
   "outputs": [],
   "source": [
    "coaches.createOrReplaceTempView(\"coaches\")"
   ]
  },
  {
   "cell_type": "code",
   "execution_count": 0,
   "metadata": {
    "application/vnd.databricks.v1+cell": {
     "cellMetadata": {
      "byteLimit": 2048000,
      "implicitDf": true,
      "rowLimit": 10000
     },
     "inputWidgets": {},
     "nuid": "d4ba8518-60a3-4518-a7c5-051a30f9e510",
     "showTitle": false,
     "title": ""
    }
   },
   "outputs": [
    {
     "output_type": "display_data",
     "data": {
      "text/html": [
       "<style scoped>\n",
       "  .table-result-container {\n",
       "    max-height: 300px;\n",
       "    overflow: auto;\n",
       "  }\n",
       "  table, th, td {\n",
       "    border: 1px solid black;\n",
       "    border-collapse: collapse;\n",
       "  }\n",
       "  th, td {\n",
       "    padding: 5px;\n",
       "  }\n",
       "  th {\n",
       "    text-align: left;\n",
       "  }\n",
       "</style><div class='table-result-container'><table class='table-result'><thead style='background-color: white'><tr><th>name</th><th>country</th><th>discipline</th><th>event</th></tr></thead><tbody><tr><td>ABDELMAGID Wael</td><td>Egypt</td><td>Football</td><td>null</td></tr><tr><td>ABE Junya</td><td>Japan</td><td>Volleyball</td><td>null</td></tr><tr><td>ABE Katsuhiko</td><td>Japan</td><td>Basketball</td><td>null</td></tr><tr><td>ADAMA Cherif</td><td>Côte d'Ivoire</td><td>Football</td><td>null</td></tr><tr><td>AGEBA Yuya</td><td>Japan</td><td>Volleyball</td><td>null</td></tr><tr><td>AIKMAN Siegfried Gottlieb</td><td>Japan</td><td>Hockey</td><td>Men</td></tr><tr><td>AL SAADI Kais</td><td>Germany</td><td>Hockey</td><td>Men</td></tr><tr><td>ALAMEDA Lonni</td><td>Canada</td><td>Baseball/Softball</td><td>Softball</td></tr><tr><td>ALEKNO Vladimir</td><td>Islamic Republic of Iran</td><td>Volleyball</td><td>Men</td></tr><tr><td>ALEKSEEV Alexey</td><td>ROC</td><td>Handball</td><td>Women</td></tr><tr><td>ALLER CARBALLO Manuel Angel</td><td>Spain</td><td>Basketball</td><td>null</td></tr><tr><td>ALSHEHRI Saad</td><td>Saudi Arabia</td><td>Football</td><td>Men</td></tr><tr><td>ALY Kamal</td><td>Egypt</td><td>Football</td><td>null</td></tr><tr><td>AMAYA GAITAN Fabian</td><td>Puerto Rico</td><td>Basketball</td><td>null</td></tr><tr><td>AMO AGUADO Pablo</td><td>Spain</td><td>Football</td><td>null</td></tr><tr><td>ANDONOVSKI Vlatko</td><td>United States of America</td><td>Football</td><td>Women</td></tr><tr><td>ANNAN Alyson</td><td>Netherlands</td><td>Hockey</td><td>Women</td></tr><tr><td>ARNAU CREUS Xavier</td><td>Japan</td><td>Hockey</td><td>Women</td></tr><tr><td>ARNOLD Graham</td><td>Australia</td><td>Football</td><td>Men</td></tr><tr><td>AXNER Tomas</td><td>Sweden</td><td>Handball</td><td>Women</td></tr><tr><td>BABER Gareth Colin</td><td>Fiji</td><td>Rugby Sevens</td><td>Men</td></tr><tr><td>BACIU Horatiu</td><td>Romania</td><td>Football</td><td>null</td></tr><tr><td>BANBULA Wojciech</td><td>Poland</td><td>Volleyball</td><td>null</td></tr><tr><td>BAO Zhuang</td><td>People's Republic of China</td><td>Volleyball</td><td>null</td></tr><tr><td>BARYLA Pawel</td><td>ROC</td><td>Volleyball</td><td>null</td></tr><tr><td>BASILIO Mel</td><td>Canada</td><td>Baseball/Softball</td><td>Softball</td></tr><tr><td>BASSO Paola</td><td>Great Britain</td><td>Artistic Swimming</td><td>Duet</td></tr><tr><td>BATCH Colin</td><td>Australia</td><td>Hockey</td><td>Men</td></tr><tr><td>BATISTA Fernando</td><td>Argentina</td><td>Football</td><td>Men</td></tr><tr><td>BATISTA SANTIAGO Gerardo</td><td>Puerto Rico</td><td>Basketball</td><td>Women</td></tr><tr><td>BENCIC Filip</td><td>Serbia</td><td>Basketball</td><td>null</td></tr><tr><td>BERG Laura</td><td>United States of America</td><td>Baseball/Softball</td><td>Softball</td></tr><tr><td>BERGE Christian</td><td>Norway</td><td>Handball</td><td>Men</td></tr><tr><td>BILLAVA SURESH Ankitha</td><td>India</td><td>Hockey</td><td>Women</td></tr><tr><td>BIRO Attila</td><td>Hungary</td><td>Water Polo</td><td>Women</td></tr><tr><td>BLECHER SIDOROVA Svetlana</td><td>Israel</td><td>Artistic Swimming</td><td>Duet</td></tr><tr><td>BLENGINI Gianlorenzo</td><td>Italy</td><td>Volleyball</td><td>Men</td></tr><tr><td>BOLTON Alice</td><td>Nigeria</td><td>Basketball</td><td>null</td></tr><tr><td>BREIVIK Marit</td><td>Norway</td><td>Handball</td><td>null</td></tr><tr><td>BRODERICK William</td><td>Brazil</td><td>Rugby Sevens</td><td>Women</td></tr><tr><td>BRONDELLO Sandy</td><td>Australia</td><td>Basketball</td><td>Women</td></tr><tr><td>BROWN Chris</td><td>United States of America</td><td>Rugby Sevens</td><td>Women</td></tr><tr><td>BROWN Michael</td><td>Nigeria</td><td>Basketball</td><td>Men</td></tr><tr><td>BRUN Aristide</td><td>Austria</td><td>Artistic Swimming</td><td>null</td></tr><tr><td>BUNTING Allan</td><td>New Zealand</td><td>Rugby Sevens</td><td>Women</td></tr><tr><td>BURLANDO Giovanna</td><td>Italy</td><td>Artistic Swimming</td><td>null</td></tr><tr><td>BUSATO Sergio</td><td>ROC</td><td>Volleyball</td><td>Women</td></tr><tr><td>BUSENKELL Axel</td><td>Germany</td><td>Football</td><td>null</td></tr><tr><td>BYRNE Mick</td><td>Canada</td><td>Rugby Sevens</td><td>Women</td></tr><tr><td>CADENAS MONTANES Manuel</td><td>Argentina</td><td>Handball</td><td>Men</td></tr><tr><td>CALDAS Max</td><td>Netherlands</td><td>Hockey</td><td>Men</td></tr><tr><td>CAMPAGNA Alessandro</td><td>Italy</td><td>Water Polo</td><td>Men</td></tr><tr><td>CARO Carlos</td><td>Mexico</td><td>Baseball/Softball</td><td>Softball</td></tr><tr><td>CASAREZ Mary Lucy</td><td>Japan</td><td>Baseball/Softball</td><td>Softball</td></tr><tr><td>CASTRO Alex</td><td>Chile</td><td>Football</td><td>null</td></tr><tr><td>CHAMBERS Cheryl</td><td>Australia</td><td>Basketball</td><td>null</td></tr><tr><td>CHEPAK Anastasiya</td><td>Egypt</td><td>Artistic Swimming</td><td>Duet</td></tr><tr><td>CHEPAK Anastasiya</td><td>Egypt</td><td>Artistic Swimming</td><td>Team</td></tr><tr><td>CHERNETSKA Natalia</td><td>Greece</td><td>Artistic Swimming</td><td>Duet</td></tr><tr><td>CHERNETSKA Natalia</td><td>Greece</td><td>Artistic Swimming</td><td>Team</td></tr><tr><td>CHIARI Simona</td><td>San Marino</td><td>Artistic Swimming</td><td>null</td></tr><tr><td>CHOI Il Eon</td><td>Republic of Korea</td><td>Baseball/Softball</td><td>Baseball</td></tr><tr><td>CHUN Jooweon</td><td>Republic of Korea</td><td>Basketball</td><td>Women</td></tr><tr><td>CLARK STEPHEN Gregg</td><td>India</td><td>Hockey</td><td>Men</td></tr><tr><td>COLLET Vincent</td><td>France</td><td>Basketball</td><td>Men</td></tr><tr><td>COMMENS Adam</td><td>Belgium</td><td>Hockey</td><td>null</td></tr><tr><td>COURTEIX David</td><td>France</td><td>Rugby Sevens</td><td>Women</td></tr><tr><td>CRESPI JAUME Margalida</td><td>Colombia</td><td>Artistic Swimming</td><td>null</td></tr><tr><td>CRUZ Filipe</td><td>Angola</td><td>Handball</td><td>Women</td></tr><tr><td>DAL ZOTTO Renan</td><td>Brazil</td><td>Volleyball</td><td>Men</td></tr><tr><td>DANCER Sean</td><td>Ireland</td><td>Hockey</td><td>Women</td></tr><tr><td>DANCHENKO Tatiana</td><td>ROC</td><td>Artistic Swimming</td><td>Duet</td></tr><tr><td>DAVY Jeremy</td><td>Australia</td><td>Hockey</td><td>Women</td></tr><tr><td>DAZA Fabian</td><td>Chile</td><td>Football</td><td>null</td></tr><tr><td>de la FUENTE CASTILLO Luis</td><td>Spain</td><td>Football</td><td>Men</td></tr><tr><td>de MOURA Luizomar</td><td>Kenya</td><td>Volleyball</td><td>Women</td></tr><tr><td>de OLIVEIRA Marcus Ricardo</td><td>Brazil</td><td>Handball</td><td>Men</td></tr><tr><td>de VOS Robbert-Jan</td><td>Netherlands</td><td>Hockey</td><td>null</td></tr><tr><td>DELANEY Mike</td><td>New Zealand</td><td>Hockey</td><td>null</td></tr><tr><td>DEMCHENKO Zhanna</td><td>Kazakhstan</td><td>Artistic Swimming</td><td>Duet</td></tr><tr><td>DIAZ FERNANDEZ Jenaro Manuel</td><td>Spain</td><td>Basketball</td><td>null</td></tr><tr><td>DIAZ HENRIQUEZ Nestor</td><td>Dominican Republic</td><td>Basketball</td><td>null</td></tr><tr><td>DIDENKO Natalia</td><td>Spain</td><td>Artistic Swimming</td><td>null</td></tr><tr><td>DOBSON Howard</td><td>United States of America</td><td>Baseball/Softball</td><td>Softball</td></tr><tr><td>DORE Karine</td><td>Canada</td><td>Artistic Swimming</td><td>null</td></tr><tr><td>DROBNJAK Dragisa</td><td>Slovenia</td><td>Basketball</td><td>null</td></tr><tr><td>DUENAS de GALARZA Jorge</td><td>Brazil</td><td>Handball</td><td>Women</td></tr><tr><td>DURO Fernando</td><td>Venezuela</td><td>Basketball</td><td>null</td></tr><tr><td>DYKSTRA Trisha</td><td>Australia</td><td>Basketball</td><td>null</td></tr><tr><td>ECHEZURIA Manuel</td><td>Venezuela</td><td>Basketball</td><td>null</td></tr><tr><td>EDDY Anthony</td><td>Ireland</td><td>Rugby Sevens</td><td>Men</td></tr><tr><td>EITOKU Atsushi</td><td>Japan</td><td>Artistic Swimming</td><td>null</td></tr><tr><td>ELAFANDI Nour</td><td>Egypt</td><td>Artistic Swimming</td><td>Duet</td></tr><tr><td>ELAFANDI Nour</td><td>Egypt</td><td>Artistic Swimming</td><td>Team</td></tr><tr><td>ELEK Gabor</td><td>Hungary</td><td>Handball</td><td>Women</td></tr><tr><td>ENGELLAND Chip</td><td>United States of America</td><td>Basketball</td><td>null</td></tr><tr><td>ENQUIST Susan</td><td>United States of America</td><td>Volleyball</td><td>null</td></tr><tr><td>ERIKSEN Ken</td><td>United States of America</td><td>Baseball/Softball</td><td>Softball</td></tr><tr><td>EWING Gareth</td><td>South Africa</td><td>Hockey</td><td>Men</td></tr><tr><td>FABRE Julie</td><td>France</td><td>Artistic Swimming</td><td>Duet</td></tr><tr><td>FAHMY LATIF Yasmine</td><td>Egypt</td><td>Artistic Swimming</td><td>null</td></tr><tr><td>FALERO Miguel</td><td>Honduras</td><td>Football</td><td>Men</td></tr><tr><td>FARINELLI Roberta</td><td>Italy</td><td>Artistic Swimming</td><td>Duet</td></tr><tr><td>FARINELLI Roberta</td><td>Italy</td><td>Artistic Swimming</td><td>Team</td></tr><tr><td>FATOVIC Elvis</td><td>Australia</td><td>Water Polo</td><td>Men</td></tr><tr><td>FAVAREL Pablo</td><td>Venezuela</td><td>Basketball</td><td>null</td></tr><tr><td>FEDIUSHYNA Tetiana</td><td>Ukraine</td><td>Artistic Swimming</td><td>null</td></tr><tr><td>FERRARO Hernan</td><td>Argentina</td><td>Volleyball</td><td>Women</td></tr><tr><td>FISH Nathan</td><td>Israel</td><td>Baseball/Softball</td><td>Baseball</td></tr><tr><td>FLOWERS Tairia</td><td>United States of America</td><td>Baseball/Softball</td><td>Softball</td></tr><tr><td>FOIREST Laurent</td><td>France</td><td>Basketball</td><td>null</td></tr><tr><td>FORREST Scott</td><td>Great Britain</td><td>Rugby Sevens</td><td>Women</td></tr><tr><td>FRIDAY Mike</td><td>United States of America</td><td>Rugby Sevens</td><td>Men</td></tr><tr><td>FUENTES Andrea</td><td>United States of America</td><td>Artistic Swimming</td><td>Duet</td></tr><tr><td>FUERBRINGER Matthew</td><td>United States of America</td><td>Volleyball</td><td>null</td></tr><tr><td>FUJIKI Mayuko</td><td>Spain</td><td>Artistic Swimming</td><td>Duet</td></tr><tr><td>FUJIKI Mayuko</td><td>Spain</td><td>Artistic Swimming</td><td>Team</td></tr><tr><td>FULI Saiasi</td><td>Fiji</td><td>Rugby Sevens</td><td>Women</td></tr><tr><td>GADEMAN Pasha</td><td>Canada</td><td>Hockey</td><td>Men</td></tr><tr><td>GAIDUKOV Aleksandr</td><td>ROC</td><td>Water Polo</td><td>Women</td></tr><tr><td>GARCIA HERRERA Manuel</td><td>Dominican Republic</td><td>Baseball/Softball</td><td>Baseball</td></tr><tr><td>GARCIA Nestor</td><td>Dominican Republic</td><td>Basketball</td><td>null</td></tr><tr><td>GARCIA PIZARRO Paula</td><td>Colombia</td><td>Artistic Swimming</td><td>Duet</td></tr><tr><td>GARNIER Valerie</td><td>France</td><td>Basketball</td><td>Women</td></tr><tr><td>GERHARDSSON Peter</td><td>Sweden</td><td>Football</td><td>Women</td></tr><tr><td>GIACOBBE Antonio</td><td>Tunisia</td><td>Volleyball</td><td>Men</td></tr><tr><td>GIALLOMBARDO Patrizia</td><td>Italy</td><td>Artistic Swimming</td><td>Duet</td></tr><tr><td>GIALLOMBARDO Patrizia</td><td>Italy</td><td>Artistic Swimming</td><td>Team</td></tr><tr><td>GILLE Guillaume</td><td>France</td><td>Handball</td><td>Men</td></tr><tr><td>GINZBURG Ronen</td><td>Czech Republic</td><td>Basketball</td><td>Men</td></tr><tr><td>GISLASON Alfred</td><td>Germany</td><td>Handball</td><td>Men</td></tr><tr><td>GOJKOVIC Vladimir</td><td>Montenegro</td><td>Water Polo</td><td>Men</td></tr><tr><td>GOMEZ CORA Santiago</td><td>Argentina</td><td>Rugby Sevens</td><td>Men</td></tr><tr><td>GONZALEZ Anibal</td><td>Mexico</td><td>Football</td><td>null</td></tr><tr><td>GONZALEZ JARENO Angel</td><td>Spain</td><td>Basketball</td><td>null</td></tr><tr><td>GOORJIAN Brian</td><td>Australia</td><td>Basketball</td><td>Men</td></tr><tr><td>GORDO MANSILLA Juan David</td><td>Spain</td><td>Football</td><td>null</td></tr><tr><td>GRAINGER Adam</td><td>Ireland</td><td>Hockey</td><td>null</td></tr><tr><td>GRAUPERA Cristina</td><td>Greece</td><td>Artistic Swimming</td><td>null</td></tr><tr><td>GRAZIOSI Gianluca</td><td>Italy</td><td>Volleyball</td><td>null</td></tr><tr><td>GRESKOWIAK Arne</td><td>Germany</td><td>Basketball</td><td>null</td></tr><tr><td>GRYZUNOVA Elena</td><td>ROC</td><td>Artistic Swimming</td><td>Team</td></tr><tr><td>GUERRERO LOPEZ Julen</td><td>Spain</td><td>Football</td><td>null</td></tr><tr><td>GUERRERO Rolando</td><td>Mexico</td><td>Baseball/Softball</td><td>Softball</td></tr><tr><td>GUERRERO Rolando</td><td>Mexico</td><td>Baseball/Softball</td><td>Softball</td></tr><tr><td>GUIDETTI Giovanni</td><td>Turkey</td><td>Volleyball</td><td>Women</td></tr><tr><td>GUILLEN Ronald</td><td>Venezuela</td><td>Basketball</td><td>null</td></tr><tr><td>GUIMARAES Jose Roberto</td><td>Brazil</td><td>Volleyball</td><td>Women</td></tr><tr><td>GUSTAVSSON Tony</td><td>Australia</td><td>Football</td><td>Women</td></tr><tr><td>HAGER Mark</td><td>Great Britain</td><td>Hockey</td><td>Women</td></tr><tr><td>HAIDARA Soualiho</td><td>Côte d'Ivoire</td><td>Football</td><td>Men</td></tr><tr><td>HALD Simon</td><td>Denmark</td><td>Handball</td><td>null</td></tr><tr><td>HALKETT Rhett</td><td>Netherlands</td><td>Hockey</td><td>null</td></tr><tr><td>HAM Darvin de</td><td>Nigeria</td><td>Basketball</td><td>null</td></tr><tr><td>HARDY William</td><td>United States of America</td><td>Basketball</td><td>null</td></tr><tr><td>HARROW Laing</td><td>Australia</td><td>Baseball/Softball</td><td>Softball</td></tr><tr><td>HARVEY Laura</td><td>United States of America</td><td>Football</td><td>null</td></tr><tr><td>HAVENGA Arno</td><td>Netherlands</td><td>Water Polo</td><td>Women</td></tr><tr><td>HAY Danny</td><td>New Zealand</td><td>Football</td><td>Men</td></tr><tr><td>HEM Thon Ponloeu</td><td>Cambodia</td><td>Artistic Swimming</td><td>null</td></tr><tr><td>HENKEL Claas</td><td>Germany</td><td>Hockey</td><td>Men</td></tr><tr><td>HENNING Andre</td><td>Canada</td><td>Hockey</td><td>Men</td></tr><tr><td>HERGEIRSSON Thorir</td><td>Norway</td><td>Handball</td><td>Women</td></tr><tr><td>HERNANDEZ FRAILE Jose Ignacio</td><td>Spain</td><td>Basketball</td><td>null</td></tr><tr><td>HERNANDEZ Sergio</td><td>Argentina</td><td>Basketball</td><td>Men</td></tr><tr><td>HEYNEN Vital</td><td>Poland</td><td>Volleyball</td><td>Men</td></tr><tr><td>HIROSE Norikazu</td><td>Japan</td><td>Football</td><td>null</td></tr><tr><td>HOAG Glenn</td><td>Canada</td><td>Volleyball</td><td>Men</td></tr><tr><td>HOLANEK Zoltan</td><td>Hungary</td><td>Handball</td><td>null</td></tr><tr><td>HOVASSE Thomas Wayne</td><td>Japan</td><td>Basketball</td><td>Women</td></tr><tr><td>HUGHES Daniel</td><td>United States of America</td><td>Basketball</td><td>null</td></tr><tr><td>HUGHLEY JR Otis</td><td>Nigeria</td><td>Basketball</td><td>Women</td></tr><tr><td>IMURA Masayo</td><td>Japan</td><td>Artistic Swimming</td><td>null</td></tr><tr><td>IWABUCHI Kensuke</td><td>Japan</td><td>Rugby Sevens</td><td>Men</td></tr><tr><td>JACOBSEN Nikolaj</td><td>Denmark</td><td>Handball</td><td>Men</td></tr><tr><td>JARDINE Andre</td><td>Brazil</td><td>Football</td><td>Men</td></tr><tr><td>JAUMA CAYUELA Esther</td><td>Netherlands</td><td>Artistic Swimming</td><td>Duet</td></tr><tr><td>JENNINGS Dee</td><td>Australia</td><td>Hockey</td><td>null</td></tr><tr><td>JEROME Essapa</td><td>Côte d'Ivoire</td><td>Football</td><td>null</td></tr><tr><td>JIA Xiuquan</td><td>People's Republic of China</td><td>Football</td><td>Women</td></tr><tr><td>JIMENEZ NIETO Cecilia</td><td>Spain</td><td>Artistic Swimming</td><td>null</td></tr><tr><td>JOHNSON Vickie</td><td>United States of America</td><td>Basketball</td><td>null</td></tr><tr><td>JONES Chris</td><td>Canada</td><td>Baseball/Softball</td><td>Softball</td></tr><tr><td>JONES Nathan</td><td>Australia</td><td>Baseball/Softball</td><td>Softball</td></tr><tr><td>KAISER Pierre</td><td>Belgium</td><td>Basketball</td><td>null</td></tr><tr><td>KANEKO Makoto</td><td>Japan</td><td>Baseball/Softball</td><td>Baseball</td></tr><tr><td>KANG Jae Won</td><td>Republic of Korea</td><td>Handball</td><td>Women</td></tr><tr><td>KANUNGO Bergin</td><td>Zambia</td><td>Football</td><td>null</td></tr><tr><td>KAWASE Asaki</td><td>Japan</td><td>Football</td><td>null</td></tr><tr><td>KAZAMA Takafumi</td><td>Japan</td><td>Football</td><td>null</td></tr><tr><td>KELLER Florian</td><td>Germany</td><td>Hockey</td><td>Women</td></tr><tr><td>KERRY Danny</td><td>Great Britain</td><td>Hockey</td><td>Men</td></tr><tr><td>KIM Chanbin</td><td>Republic of Korea</td><td>Football</td><td>null</td></tr><tr><td>KIM Hagbum</td><td>Republic of Korea</td><td>Football</td><td>Men</td></tr><tr><td>KIRALY Karch</td><td>United States of America</td><td>Volleyball</td><td>Women</td></tr><tr><td>KIRKELY Ulrik</td><td>Japan</td><td>Handball</td><td>Women</td></tr><tr><td>KIRKPATRICK Andrew</td><td>Australia</td><td>Baseball/Softball</td><td>Softball</td></tr><tr><td>KITABAYASHI Kenji</td><td>Japan</td><td>Handball</td><td>null</td></tr><tr><td>KLARENBEEK Auke</td><td>Netherlands</td><td>Handball</td><td>null</td></tr><tr><td>KNEZEVIC Nemanja</td><td>Kazakhstan</td><td>Water Polo</td><td>Men</td></tr><tr><td>KOFFI Anthony</td><td>Côte d'Ivoire</td><td>Football</td><td>null</td></tr><tr><td>KONSTANTINOV Aleksei</td><td>ROC</td><td>Volleyball</td><td>null</td></tr><tr><td>KONTIC Svetlana</td><td>Serbia</td><td>Artistic Swimming</td><td>null</td></tr><tr><td>KRIKORIAN Adam</td><td>United States of America</td><td>Water Polo</td><td>Women</td></tr><tr><td>KRIST JANSSON Aron</td><td>Bahrain</td><td>Handball</td><td>Men</td></tr><tr><td>KRUMBHOLZ Olivier</td><td>France</td><td>Handball</td><td>Women</td></tr><tr><td>KULESZA Katarzyna</td><td>Canada</td><td>Artistic Swimming</td><td>Team</td></tr><tr><td>KUNTZ Stefan</td><td>Germany</td><td>Football</td><td>Men</td></tr><tr><td>KUZIN Andrey</td><td>ROC</td><td>Rugby Sevens</td><td>Women</td></tr><tr><td>KWIEK Marcos</td><td>Dominican Republic</td><td>Volleyball</td><td>Women</td></tr><tr><td>LAIDLAW Clark</td><td>New Zealand</td><td>Rugby Sevens</td><td>Men</td></tr><tr><td>LAMAS Julio</td><td>Japan</td><td>Basketball</td><td>Men</td></tr><tr><td>LANG Ping</td><td>People's Republic of China</td><td>Volleyball</td><td>Women</td></tr><tr><td>LAVARINI Stefano</td><td>Republic of Korea</td><td>Volleyball</td><td>Women</td></tr><tr><td>LAZARO CORRAL Jesus</td><td>Spain</td><td>Basketball</td><td>null</td></tr><tr><td>LETELIER Jose</td><td>Chile</td><td>Football</td><td>Women</td></tr><tr><td>LOCK Adrian Mayner</td><td>Spain</td><td>Hockey</td><td>Women</td></tr><tr><td>LOFTUS Adriana</td><td>Mexico</td><td>Artistic Swimming</td><td>Duet</td></tr><tr><td>LOPES BARBOSA Leonard</td><td>Kenya</td><td>Volleyball</td><td>null</td></tr><tr><td>LOPEZ GUILLEN Melvyn</td><td>Dominican Republic</td><td>Basketball</td><td>null</td></tr><tr><td>LOPEZ Monica Susana</td><td>Argentina</td><td>Artistic Swimming</td><td>null</td></tr><tr><td>LOUCKS Luke</td><td>Nigeria</td><td>Basketball</td><td>null</td></tr><tr><td>LOZANO Jaime</td><td>Mexico</td><td>Football</td><td>Men</td></tr><tr><td>MACEK Anze</td><td>Slovenia</td><td>Basketball</td><td>null</td></tr><tr><td>MACKINTOSH Euan Michael Gordon</td><td>People's Republic of China</td><td>Rugby Sevens</td><td>Women</td></tr><tr><td>MAEDA Kenzo</td><td>Japan</td><td>Basketball</td><td>null</td></tr><tr><td>MAHLANGU Sibusiso</td><td>South Africa</td><td>Football</td><td>null</td></tr><tr><td>MAKIRI Hare</td><td>Japan</td><td>Rugby Sevens</td><td>Women</td></tr><tr><td>MALJKOVIC Marina</td><td>Serbia</td><td>Basketball</td><td>Women</td></tr><tr><td>MANENTI John</td><td>Australia</td><td>Rugby Sevens</td><td>Women</td></tr><tr><td>MANZANILLO Andres</td><td>Venezuela</td><td>Volleyball</td><td>null</td></tr><tr><td>MARCZ Tamas</td><td>Hungary</td><td>Water Polo</td><td>Men</td></tr><tr><td>MARIJNE Sjoerd</td><td>India</td><td>Hockey</td><td>Women</td></tr><tr><td>MARINELLI Fernando</td><td>Chile</td><td>Football</td><td>null</td></tr><tr><td>MARTIN LOZANO David</td><td>Spain</td><td>Water Polo</td><td>Men</td></tr><tr><td>MARTIN Paul</td><td>South Africa</td><td>Water Polo</td><td>Men</td></tr><tr><td>MASHA Mario</td><td>South Africa</td><td>Football</td><td>null</td></tr><tr><td>MATSUNO Yoshiyuki</td><td>Japan</td><td>Basketball</td><td>null</td></tr><tr><td>MATSUODANI Yasushi</td><td>Japan</td><td>Football</td><td>null</td></tr><tr><td>MAYBURY Elena</td><td>United States of America</td><td>Football</td><td>null</td></tr><tr><td>MAYONNADE Emmanuel</td><td>Netherlands</td><td>Handball</td><td>Women</td></tr><tr><td>MAZZANTI Davide</td><td>Italy</td><td>Volleyball</td><td>Women</td></tr><tr><td>McCRORIE Christy</td><td>South Africa</td><td>Hockey</td><td>null</td></tr><tr><td>McLEOD Shane</td><td>Belgium</td><td>Hockey</td><td>Men</td></tr><tr><td>MEDINA Bobby</td><td>Nigeria</td><td>Basketball</td><td>null</td></tr><tr><td>MENDEZ Marcelo Rodolfo</td><td>Argentina</td><td>Volleyball</td><td>Men</td></tr><tr><td>MENGUAL CIVIL Gemma</td><td>Spain</td><td>Artistic Swimming</td><td>null</td></tr><tr><td>MENTOOR Delaine</td><td>South Africa</td><td>Water Polo</td><td>Women</td></tr><tr><td>MERCEDES del ROSARIO Jose</td><td>Dominican Republic</td><td>Basketball</td><td>null</td></tr><tr><td>MESTDAGH Philip</td><td>Belgium</td><td>Basketball</td><td>Women</td></tr><tr><td>MEZHENINA Valeriia</td><td>Ukraine</td><td>Artistic Swimming</td><td>Team</td></tr><tr><td>MEZIANE Rachid</td><td>France</td><td>Basketball</td><td>null</td></tr><tr><td>MIHAILOVIC Predrag</td><td>Australia</td><td>Water Polo</td><td>Women</td></tr><tr><td>MIREJOVSKY Michal</td><td>Czech Republic</td><td>Basketball</td><td>null</td></tr><tr><td>MIRET GARCIA Daniel</td><td>Spain</td><td>Basketball</td><td>null</td></tr><tr><td>MIURA Keiko</td><td>Japan</td><td>Hockey</td><td>Women</td></tr><tr><td>MIYAKAWA Miya</td><td>Japan</td><td>Artistic Swimming</td><td>null</td></tr><tr><td>MLADENOVA Albena</td><td>Austria</td><td>Artistic Swimming</td><td>Duet</td></tr><tr><td>MOHAMED Mai</td><td>Egypt</td><td>Artistic Swimming</td><td>null</td></tr><tr><td>MOHAMED Sayeda</td><td>Saudi Arabia</td><td>Football</td><td>null</td></tr><tr><td>MOHAMMED Silifat</td><td>Nigeria</td><td>Basketball</td><td>null</td></tr><tr><td>MONDELO GARCIA Lucas</td><td>Spain</td><td>Basketball</td><td>Women</td></tr><tr><td>MONTICO Loredana</td><td>Australia</td><td>Artistic Swimming</td><td>Duet</td></tr><tr><td>MONTICO Loredana</td><td>Australia</td><td>Artistic Swimming</td><td>Team</td></tr><tr><td>MORIYASU Hajime</td><td>Japan</td><td>Football</td><td>Men</td></tr><tr><td>MOTOMIYA Makihiro</td><td>Japan</td><td>Water Polo</td><td>Women</td></tr><tr><td>MULATI Adilijiang</td><td>People's Republic of China</td><td>Basketball</td><td>null</td></tr><tr><td>MUNOZ Noe de Jesus</td><td>Mexico</td><td>Baseball/Softball</td><td>Baseball</td></tr><tr><td>MWAPE Bruce</td><td>Zambia</td><td>Football</td><td>Women</td></tr><tr><td>NAGAE Shoji</td><td>Japan</td><td>Volleyball</td><td>null</td></tr><tr><td>NAIDOO Taren</td><td>South Africa</td><td>Hockey</td><td>Women</td></tr><tr><td>NAKADA Kumi</td><td>Japan</td><td>Volleyball</td><td>Women</td></tr><tr><td>NAKAGAICHI Yuichi</td><td>Japan</td><td>Volleyball</td><td>Men</td></tr><tr><td>NCUBE Mthandazo</td><td>South Africa</td><td>Football</td><td>null</td></tr><tr><td>NEVES Christophe</td><td>Côte d'Ivoire</td><td>Football</td><td>null</td></tr><tr><td>NISHIDA Takumi</td><td>Japan</td><td>Rugby Sevens</td><td>null</td></tr><tr><td>NOTOANE David</td><td>South Africa</td><td>Football</td><td>Men</td></tr><tr><td>OCA GAIA Miguel Angel</td><td>Spain</td><td>Water Polo</td><td>Women</td></tr><tr><td>ODAUDU Ogoh</td><td>Nigeria</td><td>Basketball</td><td>null</td></tr><tr><td>OLOO Felix</td><td>Kenya</td><td>Rugby Sevens</td><td>Women</td></tr><tr><td>OMOTO Yoji</td><td>Japan</td><td>Water Polo</td><td>Men</td></tr><tr><td>PAGAN CRISTOBAL Angel</td><td>Puerto Rico</td><td>Basketball</td><td>null</td></tr><tr><td>PALERMI Giovanna</td><td>Italy</td><td>Baseball/Softball</td><td>Softball</td></tr><tr><td>PANTOJA Hernan</td><td>Venezuela</td><td>Volleyball</td><td>null</td></tr><tr><td>PARADELO David</td><td>Canada</td><td>Water Polo</td><td>Women</td></tr><tr><td>PARRONDO Roberto</td><td>Egypt</td><td>Handball</td><td>Men</td></tr><tr><td>PAUL Henry</td><td>Canada</td><td>Rugby Sevens</td><td>Men</td></tr><tr><td>PECCI Isabella</td><td>San Marino</td><td>Artistic Swimming</td><td>null</td></tr><tr><td>PEDRERO Ofelia</td><td>Mexico</td><td>Artistic Swimming</td><td>Duet</td></tr><tr><td>PEREIRA Paulo Jorge</td><td>Portugal</td><td>Handball</td><td>Men</td></tr><tr><td>PEREZ Jose</td><td>Venezuela</td><td>Basketball</td><td>null</td></tr><tr><td>PIBIRI Rossella</td><td>Italy</td><td>Artistic Swimming</td><td>null</td></tr><tr><td>PISKAREVA Ekaterina</td><td>ROC</td><td>Artistic Swimming</td><td>null</td></tr><tr><td>PIZZOLINI Federico</td><td>Italy</td><td>Baseball/Softball</td><td>Softball</td></tr><tr><td>POPOVICH Gregg</td><td>United States of America</td><td>Basketball</td><td>Men</td></tr><tr><td>POROBIC Petar</td><td>People's Republic of China</td><td>Water Polo</td><td>Women</td></tr><tr><td>POTTER Anthony</td><td>Australia</td><td>Hockey</td><td>Men</td></tr><tr><td>POWELL Katrina</td><td>Australia</td><td>Hockey</td><td>Women</td></tr><tr><td>POWELL Neil</td><td>South Africa</td><td>Rugby Sevens</td><td>Men</td></tr><tr><td>PRADO BRANAS Joaquin</td><td>Spain</td><td>Basketball</td><td>null</td></tr><tr><td>PRIESTMAN Bev</td><td>Canada</td><td>Football</td><td>Women</td></tr><tr><td>RADOI Mirel</td><td>Romania</td><td>Football</td><td>Men</td></tr><tr><td>RECKINGER Xavier</td><td>Germany</td><td>Hockey</td><td>Women</td></tr><tr><td>REID Graham John</td><td>India</td><td>Hockey</td><td>Men</td></tr><tr><td>REQUENA PERICAS Judit</td><td>Spain</td><td>Artistic Swimming</td><td>Duet</td></tr><tr><td>REQUENA PERICAS Judit</td><td>Spain</td><td>Artistic Swimming</td><td>Team</td></tr><tr><td>RETEGUI Carlos Jose</td><td>Argentina</td><td>Hockey</td><td>Men</td></tr><tr><td>RETEGUI Carlos Jose</td><td>Argentina</td><td>Hockey</td><td>Women</td></tr><tr><td>RIBERA ROMANS Jordi</td><td>Spain</td><td>Handball</td><td>Men</td></tr><tr><td>RIISE Hege</td><td>Great Britain</td><td>Football</td><td>Women</td></tr><tr><td>RILLIE John</td><td>Australia</td><td>Basketball</td><td>null</td></tr><tr><td>RIPOLL Sylvain</td><td>France</td><td>Football</td><td>Men</td></tr><tr><td>RODRIGUEZ Eduardo Rafael</td><td>Argentina</td><td>Volleyball</td><td>null</td></tr><tr><td>ROEDL Henrik</td><td>Germany</td><td>Basketball</td><td>Men</td></tr><tr><td>ROQUES Anthony</td><td>Great Britain</td><td>Rugby Sevens</td><td>Men</td></tr><tr><td>SACCHETTI Romeo</td><td>Italy</td><td>Basketball</td><td>Men</td></tr><tr><td>SALAM Mohamed</td><td>Egypt</td><td>Football</td><td>null</td></tr><tr><td>SAMMELVUO Tuomas</td><td>ROC</td><td>Volleyball</td><td>Men</td></tr><tr><td>SARTI Ronald</td><td>Venezuela</td><td>Volleyball</td><td>Men</td></tr><tr><td>SAVIC Dejan</td><td>Serbia</td><td>Water Polo</td><td>Men</td></tr><tr><td>SAVIC Maja</td><td>Montenegro</td><td>Handball</td><td>Women</td></tr><tr><td>SCARIOLO Sergio</td><td>Spain</td><td>Basketball</td><td>Men</td></tr><tr><td>SCHILLING April</td><td>Nigeria</td><td>Basketball</td><td>null</td></tr><tr><td>SEKULIC Aleksander</td><td>Slovenia</td><td>Basketball</td><td>Men</td></tr><tr><td>SEO Chun Oh</td><td>Republic of Korea</td><td>Rugby Sevens</td><td>Men</td></tr><tr><td>SERMANNI Tom</td><td>New Zealand</td><td>Football</td><td>Women</td></tr><tr><td>SHAHINTAB Mehran</td><td>Islamic Republic of Iran</td><td>Basketball</td><td>Men</td></tr><tr><td>SHAHNAZI Shahbaz</td><td>Austria</td><td>Artistic Swimming</td><td>null</td></tr><tr><td>SHAW Graham</td><td>New Zealand</td><td>Hockey</td><td>Women</td></tr><tr><td>SHAWKY Gharib</td><td>Egypt</td><td>Football</td><td>Men</td></tr><tr><td>SIAM Zaghloul</td><td>Egypt</td><td>Football</td><td>null</td></tr><tr><td>SIGURDSSON Dagur</td><td>Japan</td><td>Handball</td><td>Men</td></tr><tr><td>SIMIYU Innocent</td><td>Kenya</td><td>Rugby Sevens</td><td>Men</td></tr><tr><td>SINGH Shivendra</td><td>India</td><td>Hockey</td><td>Men</td></tr><tr><td>SMITH Darren</td><td>New Zealand</td><td>Hockey</td><td>Men</td></tr><tr><td>SMITH Mark</td><td>Canada</td><td>Baseball/Softball</td><td>Softball</td></tr><tr><td>SOLBERG Glenn</td><td>Sweden</td><td>Handball</td><td>Men</td></tr><tr><td>SOYEZ Frederic</td><td>Spain</td><td>Hockey</td><td>Men</td></tr><tr><td>SPERAW John</td><td>United States of America</td><td>Volleyball</td><td>Men</td></tr><tr><td>SPERONI Stefania</td><td>Great Britain</td><td>Artistic Swimming</td><td>Duet</td></tr><tr><td>STALEY Dawn</td><td>United States of America</td><td>Basketball</td><td>Women</td></tr><tr><td>STANIFORTH Dave</td><td>Australia</td><td>Hockey</td><td>null</td></tr><tr><td>STAS Jacques</td><td>Belgium</td><td>Basketball</td><td>null</td></tr><tr><td>SUNDHAGE Pia Mariane</td><td>Brazil</td><td>Football</td><td>Women</td></tr><tr><td>SVETLICHNAYA Aliona</td><td>Belarus</td><td>Artistic Swimming</td><td>Duet</td></tr><tr><td>SZAUDER Gabor</td><td>Canada</td><td>Artistic Swimming</td><td>Duet</td></tr><tr><td>SZAUDER Gabor</td><td>Canada</td><td>Artistic Swimming</td><td>Team</td></tr><tr><td>SZAUDER Nora</td><td>Slovakia</td><td>Artistic Swimming</td><td>null</td></tr><tr><td>TAGLE German</td><td>Chile</td><td>Football</td><td>null</td></tr><tr><td>TAKAKURA Asako</td><td>Japan</td><td>Football</td><td>Women</td></tr><tr><td>TAKITA Risako</td><td>Japan</td><td>Artistic Swimming</td><td>null</td></tr><tr><td>TARR Heather</td><td>United States of America</td><td>Baseball/Softball</td><td>Softball</td></tr><tr><td>TARRES CAMPA Ana</td><td>Greece</td><td>Artistic Swimming</td><td>Duet</td></tr><tr><td>TARRES CAMPA Ana</td><td>Greece</td><td>Artistic Swimming</td><td>Team</td></tr><tr><td>TERZIC Zoran</td><td>Serbia</td><td>Volleyball</td><td>Women</td></tr><tr><td>THOMAIDIS Lisa</td><td>Canada</td><td>Basketball</td><td>Women</td></tr><tr><td>TILLIE Laurent</td><td>France</td><td>Volleyball</td><td>Men</td></tr><tr><td>TOMOMATSU Yumiko</td><td>Italy</td><td>Artistic Swimming</td><td>null</td></tr><tr><td>TUCAK Ivica</td><td>Croatia</td><td>Water Polo</td><td>Men</td></tr><tr><td>TURNER Glenn</td><td>New Zealand</td><td>Hockey</td><td>Men</td></tr><tr><td>UDOKA Ime</td><td>United States of America</td><td>Basketball</td><td>null</td></tr><tr><td>UDOVICIC Dejan</td><td>United States of America</td><td>Water Polo</td><td>Men</td></tr><tr><td>UTKIN Volodymyr</td><td>Ukraine</td><td>Artistic Swimming</td><td>null</td></tr><tr><td>UTSUGI Reika</td><td>Japan</td><td>Baseball/Softball</td><td>Softball</td></tr><tr><td>van GINKEL Robin</td><td>South Africa</td><td>Hockey</td><td>Women</td></tr><tr><td>van GUNDY Jeff</td><td>United States of America</td><td>Basketball</td><td>null</td></tr><tr><td>VASQUEZ Diego</td><td>Venezuela</td><td>Basketball</td><td>null</td></tr><tr><td>VEGA HERRERO Anna</td><td>Spain</td><td>Artistic Swimming</td><td>null</td></tr><tr><td>VILLEGAS Orlando</td><td>Venezuela</td><td>Volleyball</td><td>null</td></tr><tr><td>VITORINO de SOUZA Marcelo</td><td>Kenya</td><td>Volleyball</td><td>null</td></tr><tr><td>VIVER ARZA Carlos Enrique</td><td>Spain</td><td>Handball</td><td>Women</td></tr><tr><td>VLACHOS Theodoros</td><td>Greece</td><td>Water Polo</td><td>Men</td></tr><tr><td>VORONOVA Elena</td><td>ROC</td><td>Artistic Swimming</td><td>Duet</td></tr><tr><td>WALL Michael</td><td>United States of America</td><td>Volleyball</td><td>null</td></tr><tr><td>WALSH Tim</td><td>Australia</td><td>Rugby Sevens</td><td>Men</td></tr><tr><td>WANG Jie</td><td>People's Republic of China</td><td>Artistic Swimming</td><td>Duet</td></tr><tr><td>WANG Jie</td><td>People's Republic of China</td><td>Artistic Swimming</td><td>Team</td></tr><tr><td>WANG Yang</td><td>People's Republic of China</td><td>Hockey</td><td>Women</td></tr><tr><td>WEINSTEIN Jerry</td><td>United States of America</td><td>Baseball/Softball</td><td>Baseball</td></tr><tr><td>WIEGMAN Sarina</td><td>Netherlands</td><td>Football</td><td>Women</td></tr><tr><td>WIRTH Oscar</td><td>Chile</td><td>Football</td><td>null</td></tr><tr><td>WOELFLIN Roberto Osvaldo</td><td>Argentina</td><td>Volleyball</td><td>null</td></tr><tr><td>WOICKI Pawel</td><td>Poland</td><td>Volleyball</td><td>null</td></tr><tr><td>WRIGHT Jerold</td><td>United States of America</td><td>Basketball</td><td>null</td></tr><tr><td>XU Limin</td><td>People's Republic of China</td><td>Basketball</td><td>Women</td></tr><tr><td>YAMAJI Noriko</td><td>Japan</td><td>Baseball/Softball</td><td>Softball</td></tr><tr><td>YUAN Lingxi</td><td>People's Republic of China</td><td>Volleyball</td><td>null</td></tr><tr><td>YURKIN Sergey</td><td>ROC</td><td>Volleyball</td><td>null</td></tr><tr><td>ZAITSEVA Olesia</td><td>Ukraine</td><td>Artistic Swimming</td><td>Duet</td></tr><tr><td>ZAMORA PEDREIRA Javier</td><td>Spain</td><td>Basketball</td><td>null</td></tr><tr><td>ZAMPIERI Francesca</td><td>Liechtenstein</td><td>Artistic Swimming</td><td>Duet</td></tr><tr><td>ZHANG Xiaohuan</td><td>People's Republic of China</td><td>Artistic Swimming</td><td>null</td></tr><tr><td>ZIJP Simon</td><td>Netherlands</td><td>Hockey</td><td>null</td></tr><tr><td>ZONDI Nkuliso</td><td>South Africa</td><td>Hockey</td><td>Women</td></tr></tbody></table></div>"
      ]
     },
     "metadata": {
      "application/vnd.databricks.v1+output": {
       "addedWidgets": {},
       "aggData": [],
       "aggError": "",
       "aggOverflow": false,
       "aggSchema": [],
       "aggSeriesLimitReached": false,
       "aggType": "",
       "arguments": {},
       "columnCustomDisplayInfos": {},
       "data": [
        [
         "ABDELMAGID Wael",
         "Egypt",
         "Football",
         null
        ],
        [
         "ABE Junya",
         "Japan",
         "Volleyball",
         null
        ],
        [
         "ABE Katsuhiko",
         "Japan",
         "Basketball",
         null
        ],
        [
         "ADAMA Cherif",
         "Côte d'Ivoire",
         "Football",
         null
        ],
        [
         "AGEBA Yuya",
         "Japan",
         "Volleyball",
         null
        ],
        [
         "AIKMAN Siegfried Gottlieb",
         "Japan",
         "Hockey",
         "Men"
        ],
        [
         "AL SAADI Kais",
         "Germany",
         "Hockey",
         "Men"
        ],
        [
         "ALAMEDA Lonni",
         "Canada",
         "Baseball/Softball",
         "Softball"
        ],
        [
         "ALEKNO Vladimir",
         "Islamic Republic of Iran",
         "Volleyball",
         "Men"
        ],
        [
         "ALEKSEEV Alexey",
         "ROC",
         "Handball",
         "Women"
        ],
        [
         "ALLER CARBALLO Manuel Angel",
         "Spain",
         "Basketball",
         null
        ],
        [
         "ALSHEHRI Saad",
         "Saudi Arabia",
         "Football",
         "Men"
        ],
        [
         "ALY Kamal",
         "Egypt",
         "Football",
         null
        ],
        [
         "AMAYA GAITAN Fabian",
         "Puerto Rico",
         "Basketball",
         null
        ],
        [
         "AMO AGUADO Pablo",
         "Spain",
         "Football",
         null
        ],
        [
         "ANDONOVSKI Vlatko",
         "United States of America",
         "Football",
         "Women"
        ],
        [
         "ANNAN Alyson",
         "Netherlands",
         "Hockey",
         "Women"
        ],
        [
         "ARNAU CREUS Xavier",
         "Japan",
         "Hockey",
         "Women"
        ],
        [
         "ARNOLD Graham",
         "Australia",
         "Football",
         "Men"
        ],
        [
         "AXNER Tomas",
         "Sweden",
         "Handball",
         "Women"
        ],
        [
         "BABER Gareth Colin",
         "Fiji",
         "Rugby Sevens",
         "Men"
        ],
        [
         "BACIU Horatiu",
         "Romania",
         "Football",
         null
        ],
        [
         "BANBULA Wojciech",
         "Poland",
         "Volleyball",
         null
        ],
        [
         "BAO Zhuang",
         "People's Republic of China",
         "Volleyball",
         null
        ],
        [
         "BARYLA Pawel",
         "ROC",
         "Volleyball",
         null
        ],
        [
         "BASILIO Mel",
         "Canada",
         "Baseball/Softball",
         "Softball"
        ],
        [
         "BASSO Paola",
         "Great Britain",
         "Artistic Swimming",
         "Duet"
        ],
        [
         "BATCH Colin",
         "Australia",
         "Hockey",
         "Men"
        ],
        [
         "BATISTA Fernando",
         "Argentina",
         "Football",
         "Men"
        ],
        [
         "BATISTA SANTIAGO Gerardo",
         "Puerto Rico",
         "Basketball",
         "Women"
        ],
        [
         "BENCIC Filip",
         "Serbia",
         "Basketball",
         null
        ],
        [
         "BERG Laura",
         "United States of America",
         "Baseball/Softball",
         "Softball"
        ],
        [
         "BERGE Christian",
         "Norway",
         "Handball",
         "Men"
        ],
        [
         "BILLAVA SURESH Ankitha",
         "India",
         "Hockey",
         "Women"
        ],
        [
         "BIRO Attila",
         "Hungary",
         "Water Polo",
         "Women"
        ],
        [
         "BLECHER SIDOROVA Svetlana",
         "Israel",
         "Artistic Swimming",
         "Duet"
        ],
        [
         "BLENGINI Gianlorenzo",
         "Italy",
         "Volleyball",
         "Men"
        ],
        [
         "BOLTON Alice",
         "Nigeria",
         "Basketball",
         null
        ],
        [
         "BREIVIK Marit",
         "Norway",
         "Handball",
         null
        ],
        [
         "BRODERICK William",
         "Brazil",
         "Rugby Sevens",
         "Women"
        ],
        [
         "BRONDELLO Sandy",
         "Australia",
         "Basketball",
         "Women"
        ],
        [
         "BROWN Chris",
         "United States of America",
         "Rugby Sevens",
         "Women"
        ],
        [
         "BROWN Michael",
         "Nigeria",
         "Basketball",
         "Men"
        ],
        [
         "BRUN Aristide",
         "Austria",
         "Artistic Swimming",
         null
        ],
        [
         "BUNTING Allan",
         "New Zealand",
         "Rugby Sevens",
         "Women"
        ],
        [
         "BURLANDO Giovanna",
         "Italy",
         "Artistic Swimming",
         null
        ],
        [
         "BUSATO Sergio",
         "ROC",
         "Volleyball",
         "Women"
        ],
        [
         "BUSENKELL Axel",
         "Germany",
         "Football",
         null
        ],
        [
         "BYRNE Mick",
         "Canada",
         "Rugby Sevens",
         "Women"
        ],
        [
         "CADENAS MONTANES Manuel",
         "Argentina",
         "Handball",
         "Men"
        ],
        [
         "CALDAS Max",
         "Netherlands",
         "Hockey",
         "Men"
        ],
        [
         "CAMPAGNA Alessandro",
         "Italy",
         "Water Polo",
         "Men"
        ],
        [
         "CARO Carlos",
         "Mexico",
         "Baseball/Softball",
         "Softball"
        ],
        [
         "CASAREZ Mary Lucy",
         "Japan",
         "Baseball/Softball",
         "Softball"
        ],
        [
         "CASTRO Alex",
         "Chile",
         "Football",
         null
        ],
        [
         "CHAMBERS Cheryl",
         "Australia",
         "Basketball",
         null
        ],
        [
         "CHEPAK Anastasiya",
         "Egypt",
         "Artistic Swimming",
         "Duet"
        ],
        [
         "CHEPAK Anastasiya",
         "Egypt",
         "Artistic Swimming",
         "Team"
        ],
        [
         "CHERNETSKA Natalia",
         "Greece",
         "Artistic Swimming",
         "Duet"
        ],
        [
         "CHERNETSKA Natalia",
         "Greece",
         "Artistic Swimming",
         "Team"
        ],
        [
         "CHIARI Simona",
         "San Marino",
         "Artistic Swimming",
         null
        ],
        [
         "CHOI Il Eon",
         "Republic of Korea",
         "Baseball/Softball",
         "Baseball"
        ],
        [
         "CHUN Jooweon",
         "Republic of Korea",
         "Basketball",
         "Women"
        ],
        [
         "CLARK STEPHEN Gregg",
         "India",
         "Hockey",
         "Men"
        ],
        [
         "COLLET Vincent",
         "France",
         "Basketball",
         "Men"
        ],
        [
         "COMMENS Adam",
         "Belgium",
         "Hockey",
         null
        ],
        [
         "COURTEIX David",
         "France",
         "Rugby Sevens",
         "Women"
        ],
        [
         "CRESPI JAUME Margalida",
         "Colombia",
         "Artistic Swimming",
         null
        ],
        [
         "CRUZ Filipe",
         "Angola",
         "Handball",
         "Women"
        ],
        [
         "DAL ZOTTO Renan",
         "Brazil",
         "Volleyball",
         "Men"
        ],
        [
         "DANCER Sean",
         "Ireland",
         "Hockey",
         "Women"
        ],
        [
         "DANCHENKO Tatiana",
         "ROC",
         "Artistic Swimming",
         "Duet"
        ],
        [
         "DAVY Jeremy",
         "Australia",
         "Hockey",
         "Women"
        ],
        [
         "DAZA Fabian",
         "Chile",
         "Football",
         null
        ],
        [
         "de la FUENTE CASTILLO Luis",
         "Spain",
         "Football",
         "Men"
        ],
        [
         "de MOURA Luizomar",
         "Kenya",
         "Volleyball",
         "Women"
        ],
        [
         "de OLIVEIRA Marcus Ricardo",
         "Brazil",
         "Handball",
         "Men"
        ],
        [
         "de VOS Robbert-Jan",
         "Netherlands",
         "Hockey",
         null
        ],
        [
         "DELANEY Mike",
         "New Zealand",
         "Hockey",
         null
        ],
        [
         "DEMCHENKO Zhanna",
         "Kazakhstan",
         "Artistic Swimming",
         "Duet"
        ],
        [
         "DIAZ FERNANDEZ Jenaro Manuel",
         "Spain",
         "Basketball",
         null
        ],
        [
         "DIAZ HENRIQUEZ Nestor",
         "Dominican Republic",
         "Basketball",
         null
        ],
        [
         "DIDENKO Natalia",
         "Spain",
         "Artistic Swimming",
         null
        ],
        [
         "DOBSON Howard",
         "United States of America",
         "Baseball/Softball",
         "Softball"
        ],
        [
         "DORE Karine",
         "Canada",
         "Artistic Swimming",
         null
        ],
        [
         "DROBNJAK Dragisa",
         "Slovenia",
         "Basketball",
         null
        ],
        [
         "DUENAS de GALARZA Jorge",
         "Brazil",
         "Handball",
         "Women"
        ],
        [
         "DURO Fernando",
         "Venezuela",
         "Basketball",
         null
        ],
        [
         "DYKSTRA Trisha",
         "Australia",
         "Basketball",
         null
        ],
        [
         "ECHEZURIA Manuel",
         "Venezuela",
         "Basketball",
         null
        ],
        [
         "EDDY Anthony",
         "Ireland",
         "Rugby Sevens",
         "Men"
        ],
        [
         "EITOKU Atsushi",
         "Japan",
         "Artistic Swimming",
         null
        ],
        [
         "ELAFANDI Nour",
         "Egypt",
         "Artistic Swimming",
         "Duet"
        ],
        [
         "ELAFANDI Nour",
         "Egypt",
         "Artistic Swimming",
         "Team"
        ],
        [
         "ELEK Gabor",
         "Hungary",
         "Handball",
         "Women"
        ],
        [
         "ENGELLAND Chip",
         "United States of America",
         "Basketball",
         null
        ],
        [
         "ENQUIST Susan",
         "United States of America",
         "Volleyball",
         null
        ],
        [
         "ERIKSEN Ken",
         "United States of America",
         "Baseball/Softball",
         "Softball"
        ],
        [
         "EWING Gareth",
         "South Africa",
         "Hockey",
         "Men"
        ],
        [
         "FABRE Julie",
         "France",
         "Artistic Swimming",
         "Duet"
        ],
        [
         "FAHMY LATIF Yasmine",
         "Egypt",
         "Artistic Swimming",
         null
        ],
        [
         "FALERO Miguel",
         "Honduras",
         "Football",
         "Men"
        ],
        [
         "FARINELLI Roberta",
         "Italy",
         "Artistic Swimming",
         "Duet"
        ],
        [
         "FARINELLI Roberta",
         "Italy",
         "Artistic Swimming",
         "Team"
        ],
        [
         "FATOVIC Elvis",
         "Australia",
         "Water Polo",
         "Men"
        ],
        [
         "FAVAREL Pablo",
         "Venezuela",
         "Basketball",
         null
        ],
        [
         "FEDIUSHYNA Tetiana",
         "Ukraine",
         "Artistic Swimming",
         null
        ],
        [
         "FERRARO Hernan",
         "Argentina",
         "Volleyball",
         "Women"
        ],
        [
         "FISH Nathan",
         "Israel",
         "Baseball/Softball",
         "Baseball"
        ],
        [
         "FLOWERS Tairia",
         "United States of America",
         "Baseball/Softball",
         "Softball"
        ],
        [
         "FOIREST Laurent",
         "France",
         "Basketball",
         null
        ],
        [
         "FORREST Scott",
         "Great Britain",
         "Rugby Sevens",
         "Women"
        ],
        [
         "FRIDAY Mike",
         "United States of America",
         "Rugby Sevens",
         "Men"
        ],
        [
         "FUENTES Andrea",
         "United States of America",
         "Artistic Swimming",
         "Duet"
        ],
        [
         "FUERBRINGER Matthew",
         "United States of America",
         "Volleyball",
         null
        ],
        [
         "FUJIKI Mayuko",
         "Spain",
         "Artistic Swimming",
         "Duet"
        ],
        [
         "FUJIKI Mayuko",
         "Spain",
         "Artistic Swimming",
         "Team"
        ],
        [
         "FULI Saiasi",
         "Fiji",
         "Rugby Sevens",
         "Women"
        ],
        [
         "GADEMAN Pasha",
         "Canada",
         "Hockey",
         "Men"
        ],
        [
         "GAIDUKOV Aleksandr",
         "ROC",
         "Water Polo",
         "Women"
        ],
        [
         "GARCIA HERRERA Manuel",
         "Dominican Republic",
         "Baseball/Softball",
         "Baseball"
        ],
        [
         "GARCIA Nestor",
         "Dominican Republic",
         "Basketball",
         null
        ],
        [
         "GARCIA PIZARRO Paula",
         "Colombia",
         "Artistic Swimming",
         "Duet"
        ],
        [
         "GARNIER Valerie",
         "France",
         "Basketball",
         "Women"
        ],
        [
         "GERHARDSSON Peter",
         "Sweden",
         "Football",
         "Women"
        ],
        [
         "GIACOBBE Antonio",
         "Tunisia",
         "Volleyball",
         "Men"
        ],
        [
         "GIALLOMBARDO Patrizia",
         "Italy",
         "Artistic Swimming",
         "Duet"
        ],
        [
         "GIALLOMBARDO Patrizia",
         "Italy",
         "Artistic Swimming",
         "Team"
        ],
        [
         "GILLE Guillaume",
         "France",
         "Handball",
         "Men"
        ],
        [
         "GINZBURG Ronen",
         "Czech Republic",
         "Basketball",
         "Men"
        ],
        [
         "GISLASON Alfred",
         "Germany",
         "Handball",
         "Men"
        ],
        [
         "GOJKOVIC Vladimir",
         "Montenegro",
         "Water Polo",
         "Men"
        ],
        [
         "GOMEZ CORA Santiago",
         "Argentina",
         "Rugby Sevens",
         "Men"
        ],
        [
         "GONZALEZ Anibal",
         "Mexico",
         "Football",
         null
        ],
        [
         "GONZALEZ JARENO Angel",
         "Spain",
         "Basketball",
         null
        ],
        [
         "GOORJIAN Brian",
         "Australia",
         "Basketball",
         "Men"
        ],
        [
         "GORDO MANSILLA Juan David",
         "Spain",
         "Football",
         null
        ],
        [
         "GRAINGER Adam",
         "Ireland",
         "Hockey",
         null
        ],
        [
         "GRAUPERA Cristina",
         "Greece",
         "Artistic Swimming",
         null
        ],
        [
         "GRAZIOSI Gianluca",
         "Italy",
         "Volleyball",
         null
        ],
        [
         "GRESKOWIAK Arne",
         "Germany",
         "Basketball",
         null
        ],
        [
         "GRYZUNOVA Elena",
         "ROC",
         "Artistic Swimming",
         "Team"
        ],
        [
         "GUERRERO LOPEZ Julen",
         "Spain",
         "Football",
         null
        ],
        [
         "GUERRERO Rolando",
         "Mexico",
         "Baseball/Softball",
         "Softball"
        ],
        [
         "GUERRERO Rolando",
         "Mexico",
         "Baseball/Softball",
         "Softball"
        ],
        [
         "GUIDETTI Giovanni",
         "Turkey",
         "Volleyball",
         "Women"
        ],
        [
         "GUILLEN Ronald",
         "Venezuela",
         "Basketball",
         null
        ],
        [
         "GUIMARAES Jose Roberto",
         "Brazil",
         "Volleyball",
         "Women"
        ],
        [
         "GUSTAVSSON Tony",
         "Australia",
         "Football",
         "Women"
        ],
        [
         "HAGER Mark",
         "Great Britain",
         "Hockey",
         "Women"
        ],
        [
         "HAIDARA Soualiho",
         "Côte d'Ivoire",
         "Football",
         "Men"
        ],
        [
         "HALD Simon",
         "Denmark",
         "Handball",
         null
        ],
        [
         "HALKETT Rhett",
         "Netherlands",
         "Hockey",
         null
        ],
        [
         "HAM Darvin de",
         "Nigeria",
         "Basketball",
         null
        ],
        [
         "HARDY William",
         "United States of America",
         "Basketball",
         null
        ],
        [
         "HARROW Laing",
         "Australia",
         "Baseball/Softball",
         "Softball"
        ],
        [
         "HARVEY Laura",
         "United States of America",
         "Football",
         null
        ],
        [
         "HAVENGA Arno",
         "Netherlands",
         "Water Polo",
         "Women"
        ],
        [
         "HAY Danny",
         "New Zealand",
         "Football",
         "Men"
        ],
        [
         "HEM Thon Ponloeu",
         "Cambodia",
         "Artistic Swimming",
         null
        ],
        [
         "HENKEL Claas",
         "Germany",
         "Hockey",
         "Men"
        ],
        [
         "HENNING Andre",
         "Canada",
         "Hockey",
         "Men"
        ],
        [
         "HERGEIRSSON Thorir",
         "Norway",
         "Handball",
         "Women"
        ],
        [
         "HERNANDEZ FRAILE Jose Ignacio",
         "Spain",
         "Basketball",
         null
        ],
        [
         "HERNANDEZ Sergio",
         "Argentina",
         "Basketball",
         "Men"
        ],
        [
         "HEYNEN Vital",
         "Poland",
         "Volleyball",
         "Men"
        ],
        [
         "HIROSE Norikazu",
         "Japan",
         "Football",
         null
        ],
        [
         "HOAG Glenn",
         "Canada",
         "Volleyball",
         "Men"
        ],
        [
         "HOLANEK Zoltan",
         "Hungary",
         "Handball",
         null
        ],
        [
         "HOVASSE Thomas Wayne",
         "Japan",
         "Basketball",
         "Women"
        ],
        [
         "HUGHES Daniel",
         "United States of America",
         "Basketball",
         null
        ],
        [
         "HUGHLEY JR Otis",
         "Nigeria",
         "Basketball",
         "Women"
        ],
        [
         "IMURA Masayo",
         "Japan",
         "Artistic Swimming",
         null
        ],
        [
         "IWABUCHI Kensuke",
         "Japan",
         "Rugby Sevens",
         "Men"
        ],
        [
         "JACOBSEN Nikolaj",
         "Denmark",
         "Handball",
         "Men"
        ],
        [
         "JARDINE Andre",
         "Brazil",
         "Football",
         "Men"
        ],
        [
         "JAUMA CAYUELA Esther",
         "Netherlands",
         "Artistic Swimming",
         "Duet"
        ],
        [
         "JENNINGS Dee",
         "Australia",
         "Hockey",
         null
        ],
        [
         "JEROME Essapa",
         "Côte d'Ivoire",
         "Football",
         null
        ],
        [
         "JIA Xiuquan",
         "People's Republic of China",
         "Football",
         "Women"
        ],
        [
         "JIMENEZ NIETO Cecilia",
         "Spain",
         "Artistic Swimming",
         null
        ],
        [
         "JOHNSON Vickie",
         "United States of America",
         "Basketball",
         null
        ],
        [
         "JONES Chris",
         "Canada",
         "Baseball/Softball",
         "Softball"
        ],
        [
         "JONES Nathan",
         "Australia",
         "Baseball/Softball",
         "Softball"
        ],
        [
         "KAISER Pierre",
         "Belgium",
         "Basketball",
         null
        ],
        [
         "KANEKO Makoto",
         "Japan",
         "Baseball/Softball",
         "Baseball"
        ],
        [
         "KANG Jae Won",
         "Republic of Korea",
         "Handball",
         "Women"
        ],
        [
         "KANUNGO Bergin",
         "Zambia",
         "Football",
         null
        ],
        [
         "KAWASE Asaki",
         "Japan",
         "Football",
         null
        ],
        [
         "KAZAMA Takafumi",
         "Japan",
         "Football",
         null
        ],
        [
         "KELLER Florian",
         "Germany",
         "Hockey",
         "Women"
        ],
        [
         "KERRY Danny",
         "Great Britain",
         "Hockey",
         "Men"
        ],
        [
         "KIM Chanbin",
         "Republic of Korea",
         "Football",
         null
        ],
        [
         "KIM Hagbum",
         "Republic of Korea",
         "Football",
         "Men"
        ],
        [
         "KIRALY Karch",
         "United States of America",
         "Volleyball",
         "Women"
        ],
        [
         "KIRKELY Ulrik",
         "Japan",
         "Handball",
         "Women"
        ],
        [
         "KIRKPATRICK Andrew",
         "Australia",
         "Baseball/Softball",
         "Softball"
        ],
        [
         "KITABAYASHI Kenji",
         "Japan",
         "Handball",
         null
        ],
        [
         "KLARENBEEK Auke",
         "Netherlands",
         "Handball",
         null
        ],
        [
         "KNEZEVIC Nemanja",
         "Kazakhstan",
         "Water Polo",
         "Men"
        ],
        [
         "KOFFI Anthony",
         "Côte d'Ivoire",
         "Football",
         null
        ],
        [
         "KONSTANTINOV Aleksei",
         "ROC",
         "Volleyball",
         null
        ],
        [
         "KONTIC Svetlana",
         "Serbia",
         "Artistic Swimming",
         null
        ],
        [
         "KRIKORIAN Adam",
         "United States of America",
         "Water Polo",
         "Women"
        ],
        [
         "KRIST JANSSON Aron",
         "Bahrain",
         "Handball",
         "Men"
        ],
        [
         "KRUMBHOLZ Olivier",
         "France",
         "Handball",
         "Women"
        ],
        [
         "KULESZA Katarzyna",
         "Canada",
         "Artistic Swimming",
         "Team"
        ],
        [
         "KUNTZ Stefan",
         "Germany",
         "Football",
         "Men"
        ],
        [
         "KUZIN Andrey",
         "ROC",
         "Rugby Sevens",
         "Women"
        ],
        [
         "KWIEK Marcos",
         "Dominican Republic",
         "Volleyball",
         "Women"
        ],
        [
         "LAIDLAW Clark",
         "New Zealand",
         "Rugby Sevens",
         "Men"
        ],
        [
         "LAMAS Julio",
         "Japan",
         "Basketball",
         "Men"
        ],
        [
         "LANG Ping",
         "People's Republic of China",
         "Volleyball",
         "Women"
        ],
        [
         "LAVARINI Stefano",
         "Republic of Korea",
         "Volleyball",
         "Women"
        ],
        [
         "LAZARO CORRAL Jesus",
         "Spain",
         "Basketball",
         null
        ],
        [
         "LETELIER Jose",
         "Chile",
         "Football",
         "Women"
        ],
        [
         "LOCK Adrian Mayner",
         "Spain",
         "Hockey",
         "Women"
        ],
        [
         "LOFTUS Adriana",
         "Mexico",
         "Artistic Swimming",
         "Duet"
        ],
        [
         "LOPES BARBOSA Leonard",
         "Kenya",
         "Volleyball",
         null
        ],
        [
         "LOPEZ GUILLEN Melvyn",
         "Dominican Republic",
         "Basketball",
         null
        ],
        [
         "LOPEZ Monica Susana",
         "Argentina",
         "Artistic Swimming",
         null
        ],
        [
         "LOUCKS Luke",
         "Nigeria",
         "Basketball",
         null
        ],
        [
         "LOZANO Jaime",
         "Mexico",
         "Football",
         "Men"
        ],
        [
         "MACEK Anze",
         "Slovenia",
         "Basketball",
         null
        ],
        [
         "MACKINTOSH Euan Michael Gordon",
         "People's Republic of China",
         "Rugby Sevens",
         "Women"
        ],
        [
         "MAEDA Kenzo",
         "Japan",
         "Basketball",
         null
        ],
        [
         "MAHLANGU Sibusiso",
         "South Africa",
         "Football",
         null
        ],
        [
         "MAKIRI Hare",
         "Japan",
         "Rugby Sevens",
         "Women"
        ],
        [
         "MALJKOVIC Marina",
         "Serbia",
         "Basketball",
         "Women"
        ],
        [
         "MANENTI John",
         "Australia",
         "Rugby Sevens",
         "Women"
        ],
        [
         "MANZANILLO Andres",
         "Venezuela",
         "Volleyball",
         null
        ],
        [
         "MARCZ Tamas",
         "Hungary",
         "Water Polo",
         "Men"
        ],
        [
         "MARIJNE Sjoerd",
         "India",
         "Hockey",
         "Women"
        ],
        [
         "MARINELLI Fernando",
         "Chile",
         "Football",
         null
        ],
        [
         "MARTIN LOZANO David",
         "Spain",
         "Water Polo",
         "Men"
        ],
        [
         "MARTIN Paul",
         "South Africa",
         "Water Polo",
         "Men"
        ],
        [
         "MASHA Mario",
         "South Africa",
         "Football",
         null
        ],
        [
         "MATSUNO Yoshiyuki",
         "Japan",
         "Basketball",
         null
        ],
        [
         "MATSUODANI Yasushi",
         "Japan",
         "Football",
         null
        ],
        [
         "MAYBURY Elena",
         "United States of America",
         "Football",
         null
        ],
        [
         "MAYONNADE Emmanuel",
         "Netherlands",
         "Handball",
         "Women"
        ],
        [
         "MAZZANTI Davide",
         "Italy",
         "Volleyball",
         "Women"
        ],
        [
         "McCRORIE Christy",
         "South Africa",
         "Hockey",
         null
        ],
        [
         "McLEOD Shane",
         "Belgium",
         "Hockey",
         "Men"
        ],
        [
         "MEDINA Bobby",
         "Nigeria",
         "Basketball",
         null
        ],
        [
         "MENDEZ Marcelo Rodolfo",
         "Argentina",
         "Volleyball",
         "Men"
        ],
        [
         "MENGUAL CIVIL Gemma",
         "Spain",
         "Artistic Swimming",
         null
        ],
        [
         "MENTOOR Delaine",
         "South Africa",
         "Water Polo",
         "Women"
        ],
        [
         "MERCEDES del ROSARIO Jose",
         "Dominican Republic",
         "Basketball",
         null
        ],
        [
         "MESTDAGH Philip",
         "Belgium",
         "Basketball",
         "Women"
        ],
        [
         "MEZHENINA Valeriia",
         "Ukraine",
         "Artistic Swimming",
         "Team"
        ],
        [
         "MEZIANE Rachid",
         "France",
         "Basketball",
         null
        ],
        [
         "MIHAILOVIC Predrag",
         "Australia",
         "Water Polo",
         "Women"
        ],
        [
         "MIREJOVSKY Michal",
         "Czech Republic",
         "Basketball",
         null
        ],
        [
         "MIRET GARCIA Daniel",
         "Spain",
         "Basketball",
         null
        ],
        [
         "MIURA Keiko",
         "Japan",
         "Hockey",
         "Women"
        ],
        [
         "MIYAKAWA Miya",
         "Japan",
         "Artistic Swimming",
         null
        ],
        [
         "MLADENOVA Albena",
         "Austria",
         "Artistic Swimming",
         "Duet"
        ],
        [
         "MOHAMED Mai",
         "Egypt",
         "Artistic Swimming",
         null
        ],
        [
         "MOHAMED Sayeda",
         "Saudi Arabia",
         "Football",
         null
        ],
        [
         "MOHAMMED Silifat",
         "Nigeria",
         "Basketball",
         null
        ],
        [
         "MONDELO GARCIA Lucas",
         "Spain",
         "Basketball",
         "Women"
        ],
        [
         "MONTICO Loredana",
         "Australia",
         "Artistic Swimming",
         "Duet"
        ],
        [
         "MONTICO Loredana",
         "Australia",
         "Artistic Swimming",
         "Team"
        ],
        [
         "MORIYASU Hajime",
         "Japan",
         "Football",
         "Men"
        ],
        [
         "MOTOMIYA Makihiro",
         "Japan",
         "Water Polo",
         "Women"
        ],
        [
         "MULATI Adilijiang",
         "People's Republic of China",
         "Basketball",
         null
        ],
        [
         "MUNOZ Noe de Jesus",
         "Mexico",
         "Baseball/Softball",
         "Baseball"
        ],
        [
         "MWAPE Bruce",
         "Zambia",
         "Football",
         "Women"
        ],
        [
         "NAGAE Shoji",
         "Japan",
         "Volleyball",
         null
        ],
        [
         "NAIDOO Taren",
         "South Africa",
         "Hockey",
         "Women"
        ],
        [
         "NAKADA Kumi",
         "Japan",
         "Volleyball",
         "Women"
        ],
        [
         "NAKAGAICHI Yuichi",
         "Japan",
         "Volleyball",
         "Men"
        ],
        [
         "NCUBE Mthandazo",
         "South Africa",
         "Football",
         null
        ],
        [
         "NEVES Christophe",
         "Côte d'Ivoire",
         "Football",
         null
        ],
        [
         "NISHIDA Takumi",
         "Japan",
         "Rugby Sevens",
         null
        ],
        [
         "NOTOANE David",
         "South Africa",
         "Football",
         "Men"
        ],
        [
         "OCA GAIA Miguel Angel",
         "Spain",
         "Water Polo",
         "Women"
        ],
        [
         "ODAUDU Ogoh",
         "Nigeria",
         "Basketball",
         null
        ],
        [
         "OLOO Felix",
         "Kenya",
         "Rugby Sevens",
         "Women"
        ],
        [
         "OMOTO Yoji",
         "Japan",
         "Water Polo",
         "Men"
        ],
        [
         "PAGAN CRISTOBAL Angel",
         "Puerto Rico",
         "Basketball",
         null
        ],
        [
         "PALERMI Giovanna",
         "Italy",
         "Baseball/Softball",
         "Softball"
        ],
        [
         "PANTOJA Hernan",
         "Venezuela",
         "Volleyball",
         null
        ],
        [
         "PARADELO David",
         "Canada",
         "Water Polo",
         "Women"
        ],
        [
         "PARRONDO Roberto",
         "Egypt",
         "Handball",
         "Men"
        ],
        [
         "PAUL Henry",
         "Canada",
         "Rugby Sevens",
         "Men"
        ],
        [
         "PECCI Isabella",
         "San Marino",
         "Artistic Swimming",
         null
        ],
        [
         "PEDRERO Ofelia",
         "Mexico",
         "Artistic Swimming",
         "Duet"
        ],
        [
         "PEREIRA Paulo Jorge",
         "Portugal",
         "Handball",
         "Men"
        ],
        [
         "PEREZ Jose",
         "Venezuela",
         "Basketball",
         null
        ],
        [
         "PIBIRI Rossella",
         "Italy",
         "Artistic Swimming",
         null
        ],
        [
         "PISKAREVA Ekaterina",
         "ROC",
         "Artistic Swimming",
         null
        ],
        [
         "PIZZOLINI Federico",
         "Italy",
         "Baseball/Softball",
         "Softball"
        ],
        [
         "POPOVICH Gregg",
         "United States of America",
         "Basketball",
         "Men"
        ],
        [
         "POROBIC Petar",
         "People's Republic of China",
         "Water Polo",
         "Women"
        ],
        [
         "POTTER Anthony",
         "Australia",
         "Hockey",
         "Men"
        ],
        [
         "POWELL Katrina",
         "Australia",
         "Hockey",
         "Women"
        ],
        [
         "POWELL Neil",
         "South Africa",
         "Rugby Sevens",
         "Men"
        ],
        [
         "PRADO BRANAS Joaquin",
         "Spain",
         "Basketball",
         null
        ],
        [
         "PRIESTMAN Bev",
         "Canada",
         "Football",
         "Women"
        ],
        [
         "RADOI Mirel",
         "Romania",
         "Football",
         "Men"
        ],
        [
         "RECKINGER Xavier",
         "Germany",
         "Hockey",
         "Women"
        ],
        [
         "REID Graham John",
         "India",
         "Hockey",
         "Men"
        ],
        [
         "REQUENA PERICAS Judit",
         "Spain",
         "Artistic Swimming",
         "Duet"
        ],
        [
         "REQUENA PERICAS Judit",
         "Spain",
         "Artistic Swimming",
         "Team"
        ],
        [
         "RETEGUI Carlos Jose",
         "Argentina",
         "Hockey",
         "Men"
        ],
        [
         "RETEGUI Carlos Jose",
         "Argentina",
         "Hockey",
         "Women"
        ],
        [
         "RIBERA ROMANS Jordi",
         "Spain",
         "Handball",
         "Men"
        ],
        [
         "RIISE Hege",
         "Great Britain",
         "Football",
         "Women"
        ],
        [
         "RILLIE John",
         "Australia",
         "Basketball",
         null
        ],
        [
         "RIPOLL Sylvain",
         "France",
         "Football",
         "Men"
        ],
        [
         "RODRIGUEZ Eduardo Rafael",
         "Argentina",
         "Volleyball",
         null
        ],
        [
         "ROEDL Henrik",
         "Germany",
         "Basketball",
         "Men"
        ],
        [
         "ROQUES Anthony",
         "Great Britain",
         "Rugby Sevens",
         "Men"
        ],
        [
         "SACCHETTI Romeo",
         "Italy",
         "Basketball",
         "Men"
        ],
        [
         "SALAM Mohamed",
         "Egypt",
         "Football",
         null
        ],
        [
         "SAMMELVUO Tuomas",
         "ROC",
         "Volleyball",
         "Men"
        ],
        [
         "SARTI Ronald",
         "Venezuela",
         "Volleyball",
         "Men"
        ],
        [
         "SAVIC Dejan",
         "Serbia",
         "Water Polo",
         "Men"
        ],
        [
         "SAVIC Maja",
         "Montenegro",
         "Handball",
         "Women"
        ],
        [
         "SCARIOLO Sergio",
         "Spain",
         "Basketball",
         "Men"
        ],
        [
         "SCHILLING April",
         "Nigeria",
         "Basketball",
         null
        ],
        [
         "SEKULIC Aleksander",
         "Slovenia",
         "Basketball",
         "Men"
        ],
        [
         "SEO Chun Oh",
         "Republic of Korea",
         "Rugby Sevens",
         "Men"
        ],
        [
         "SERMANNI Tom",
         "New Zealand",
         "Football",
         "Women"
        ],
        [
         "SHAHINTAB Mehran",
         "Islamic Republic of Iran",
         "Basketball",
         "Men"
        ],
        [
         "SHAHNAZI Shahbaz",
         "Austria",
         "Artistic Swimming",
         null
        ],
        [
         "SHAW Graham",
         "New Zealand",
         "Hockey",
         "Women"
        ],
        [
         "SHAWKY Gharib",
         "Egypt",
         "Football",
         "Men"
        ],
        [
         "SIAM Zaghloul",
         "Egypt",
         "Football",
         null
        ],
        [
         "SIGURDSSON Dagur",
         "Japan",
         "Handball",
         "Men"
        ],
        [
         "SIMIYU Innocent",
         "Kenya",
         "Rugby Sevens",
         "Men"
        ],
        [
         "SINGH Shivendra",
         "India",
         "Hockey",
         "Men"
        ],
        [
         "SMITH Darren",
         "New Zealand",
         "Hockey",
         "Men"
        ],
        [
         "SMITH Mark",
         "Canada",
         "Baseball/Softball",
         "Softball"
        ],
        [
         "SOLBERG Glenn",
         "Sweden",
         "Handball",
         "Men"
        ],
        [
         "SOYEZ Frederic",
         "Spain",
         "Hockey",
         "Men"
        ],
        [
         "SPERAW John",
         "United States of America",
         "Volleyball",
         "Men"
        ],
        [
         "SPERONI Stefania",
         "Great Britain",
         "Artistic Swimming",
         "Duet"
        ],
        [
         "STALEY Dawn",
         "United States of America",
         "Basketball",
         "Women"
        ],
        [
         "STANIFORTH Dave",
         "Australia",
         "Hockey",
         null
        ],
        [
         "STAS Jacques",
         "Belgium",
         "Basketball",
         null
        ],
        [
         "SUNDHAGE Pia Mariane",
         "Brazil",
         "Football",
         "Women"
        ],
        [
         "SVETLICHNAYA Aliona",
         "Belarus",
         "Artistic Swimming",
         "Duet"
        ],
        [
         "SZAUDER Gabor",
         "Canada",
         "Artistic Swimming",
         "Duet"
        ],
        [
         "SZAUDER Gabor",
         "Canada",
         "Artistic Swimming",
         "Team"
        ],
        [
         "SZAUDER Nora",
         "Slovakia",
         "Artistic Swimming",
         null
        ],
        [
         "TAGLE German",
         "Chile",
         "Football",
         null
        ],
        [
         "TAKAKURA Asako",
         "Japan",
         "Football",
         "Women"
        ],
        [
         "TAKITA Risako",
         "Japan",
         "Artistic Swimming",
         null
        ],
        [
         "TARR Heather",
         "United States of America",
         "Baseball/Softball",
         "Softball"
        ],
        [
         "TARRES CAMPA Ana",
         "Greece",
         "Artistic Swimming",
         "Duet"
        ],
        [
         "TARRES CAMPA Ana",
         "Greece",
         "Artistic Swimming",
         "Team"
        ],
        [
         "TERZIC Zoran",
         "Serbia",
         "Volleyball",
         "Women"
        ],
        [
         "THOMAIDIS Lisa",
         "Canada",
         "Basketball",
         "Women"
        ],
        [
         "TILLIE Laurent",
         "France",
         "Volleyball",
         "Men"
        ],
        [
         "TOMOMATSU Yumiko",
         "Italy",
         "Artistic Swimming",
         null
        ],
        [
         "TUCAK Ivica",
         "Croatia",
         "Water Polo",
         "Men"
        ],
        [
         "TURNER Glenn",
         "New Zealand",
         "Hockey",
         "Men"
        ],
        [
         "UDOKA Ime",
         "United States of America",
         "Basketball",
         null
        ],
        [
         "UDOVICIC Dejan",
         "United States of America",
         "Water Polo",
         "Men"
        ],
        [
         "UTKIN Volodymyr",
         "Ukraine",
         "Artistic Swimming",
         null
        ],
        [
         "UTSUGI Reika",
         "Japan",
         "Baseball/Softball",
         "Softball"
        ],
        [
         "van GINKEL Robin",
         "South Africa",
         "Hockey",
         "Women"
        ],
        [
         "van GUNDY Jeff",
         "United States of America",
         "Basketball",
         null
        ],
        [
         "VASQUEZ Diego",
         "Venezuela",
         "Basketball",
         null
        ],
        [
         "VEGA HERRERO Anna",
         "Spain",
         "Artistic Swimming",
         null
        ],
        [
         "VILLEGAS Orlando",
         "Venezuela",
         "Volleyball",
         null
        ],
        [
         "VITORINO de SOUZA Marcelo",
         "Kenya",
         "Volleyball",
         null
        ],
        [
         "VIVER ARZA Carlos Enrique",
         "Spain",
         "Handball",
         "Women"
        ],
        [
         "VLACHOS Theodoros",
         "Greece",
         "Water Polo",
         "Men"
        ],
        [
         "VORONOVA Elena",
         "ROC",
         "Artistic Swimming",
         "Duet"
        ],
        [
         "WALL Michael",
         "United States of America",
         "Volleyball",
         null
        ],
        [
         "WALSH Tim",
         "Australia",
         "Rugby Sevens",
         "Men"
        ],
        [
         "WANG Jie",
         "People's Republic of China",
         "Artistic Swimming",
         "Duet"
        ],
        [
         "WANG Jie",
         "People's Republic of China",
         "Artistic Swimming",
         "Team"
        ],
        [
         "WANG Yang",
         "People's Republic of China",
         "Hockey",
         "Women"
        ],
        [
         "WEINSTEIN Jerry",
         "United States of America",
         "Baseball/Softball",
         "Baseball"
        ],
        [
         "WIEGMAN Sarina",
         "Netherlands",
         "Football",
         "Women"
        ],
        [
         "WIRTH Oscar",
         "Chile",
         "Football",
         null
        ],
        [
         "WOELFLIN Roberto Osvaldo",
         "Argentina",
         "Volleyball",
         null
        ],
        [
         "WOICKI Pawel",
         "Poland",
         "Volleyball",
         null
        ],
        [
         "WRIGHT Jerold",
         "United States of America",
         "Basketball",
         null
        ],
        [
         "XU Limin",
         "People's Republic of China",
         "Basketball",
         "Women"
        ],
        [
         "YAMAJI Noriko",
         "Japan",
         "Baseball/Softball",
         "Softball"
        ],
        [
         "YUAN Lingxi",
         "People's Republic of China",
         "Volleyball",
         null
        ],
        [
         "YURKIN Sergey",
         "ROC",
         "Volleyball",
         null
        ],
        [
         "ZAITSEVA Olesia",
         "Ukraine",
         "Artistic Swimming",
         "Duet"
        ],
        [
         "ZAMORA PEDREIRA Javier",
         "Spain",
         "Basketball",
         null
        ],
        [
         "ZAMPIERI Francesca",
         "Liechtenstein",
         "Artistic Swimming",
         "Duet"
        ],
        [
         "ZHANG Xiaohuan",
         "People's Republic of China",
         "Artistic Swimming",
         null
        ],
        [
         "ZIJP Simon",
         "Netherlands",
         "Hockey",
         null
        ],
        [
         "ZONDI Nkuliso",
         "South Africa",
         "Hockey",
         "Women"
        ]
       ],
       "datasetInfos": [],
       "dbfsResultPath": null,
       "isJsonSchema": true,
       "metadata": {},
       "overflow": false,
       "plotOptions": {
        "customPlotOptions": {},
        "displayType": "table",
        "pivotAggregation": null,
        "pivotColumns": null,
        "xColumns": null,
        "yColumns": null
       },
       "removedWidgets": [],
       "schema": [
        {
         "metadata": "{}",
         "name": "name",
         "type": "\"string\""
        },
        {
         "metadata": "{}",
         "name": "country",
         "type": "\"string\""
        },
        {
         "metadata": "{}",
         "name": "discipline",
         "type": "\"string\""
        },
        {
         "metadata": "{}",
         "name": "event",
         "type": "\"string\""
        }
       ],
       "type": "table"
      }
     },
     "output_type": "display_data"
    }
   ],
   "source": [
    "%sql \n",
    "SELECT *\n",
    "FROM coaches"
   ]
  },
  {
   "cell_type": "code",
   "execution_count": 0,
   "metadata": {
    "application/vnd.databricks.v1+cell": {
     "cellMetadata": {
      "byteLimit": 2048000,
      "implicitDf": true,
      "rowLimit": 10000
     },
     "inputWidgets": {},
     "nuid": "c31e0001-b2ff-4cf7-b0e5-48942ab126ff",
     "showTitle": false,
     "title": ""
    }
   },
   "outputs": [
    {
     "output_type": "display_data",
     "data": {
      "text/html": [
       "<style scoped>\n",
       "  .table-result-container {\n",
       "    max-height: 300px;\n",
       "    overflow: auto;\n",
       "  }\n",
       "  table, th, td {\n",
       "    border: 1px solid black;\n",
       "    border-collapse: collapse;\n",
       "  }\n",
       "  th, td {\n",
       "    padding: 5px;\n",
       "  }\n",
       "  th {\n",
       "    text-align: left;\n",
       "  }\n",
       "</style><div class='table-result-container'><table class='table-result'><thead style='background-color: white'><tr><th>null_values_in_table</th></tr></thead><tbody><tr><td>145</td></tr></tbody></table></div>"
      ]
     },
     "metadata": {
      "application/vnd.databricks.v1+output": {
       "addedWidgets": {},
       "aggData": [],
       "aggError": "",
       "aggOverflow": false,
       "aggSchema": [],
       "aggSeriesLimitReached": false,
       "aggType": "",
       "arguments": {},
       "columnCustomDisplayInfos": {},
       "data": [
        [
         145
        ]
       ],
       "datasetInfos": [],
       "dbfsResultPath": null,
       "isJsonSchema": true,
       "metadata": {},
       "overflow": false,
       "plotOptions": {
        "customPlotOptions": {},
        "displayType": "table",
        "pivotAggregation": null,
        "pivotColumns": null,
        "xColumns": null,
        "yColumns": null
       },
       "removedWidgets": [],
       "schema": [
        {
         "metadata": "{}",
         "name": "null_values_in_table",
         "type": "\"long\""
        }
       ],
       "type": "table"
      }
     },
     "output_type": "display_data"
    }
   ],
   "source": [
    "%sql\n",
    "-- SELECT COUNT(*) AS total_rows FROM coaches\n",
    "SELECT COUNT(*) AS null_values_in_table\n",
    "FROM coaches\n",
    "WHERE event IS NULL;"
   ]
  },
  {
   "cell_type": "code",
   "execution_count": 0,
   "metadata": {
    "application/vnd.databricks.v1+cell": {
     "cellMetadata": {
      "byteLimit": 2048000,
      "implicitDf": true,
      "rowLimit": 10000
     },
     "inputWidgets": {},
     "nuid": "82b8c91c-5f9d-4b02-9476-d8a368ae2f53",
     "showTitle": false,
     "title": ""
    }
   },
   "outputs": [
    {
     "output_type": "display_data",
     "data": {
      "text/html": [
       "<style scoped>\n",
       "  .table-result-container {\n",
       "    max-height: 300px;\n",
       "    overflow: auto;\n",
       "  }\n",
       "  table, th, td {\n",
       "    border: 1px solid black;\n",
       "    border-collapse: collapse;\n",
       "  }\n",
       "  th, td {\n",
       "    padding: 5px;\n",
       "  }\n",
       "  th {\n",
       "    text-align: left;\n",
       "  }\n",
       "</style><div class='table-result-container'><table class='table-result'><thead style='background-color: white'><tr><th>country</th><th>coaches</th></tr></thead><tbody><tr><td>Japan</td><td>35</td></tr><tr><td>Spain</td><td>28</td></tr><tr><td>United States of America</td><td>28</td></tr><tr><td>Australia</td><td>22</td></tr><tr><td>Canada</td><td>16</td></tr><tr><td>Italy</td><td>14</td></tr><tr><td>People's Republic of China</td><td>12</td></tr><tr><td>Egypt</td><td>12</td></tr><tr><td>South Africa</td><td>12</td></tr><tr><td>ROC</td><td>12</td></tr><tr><td>Argentina</td><td>11</td></tr><tr><td>France</td><td>10</td></tr><tr><td>Venezuela</td><td>10</td></tr><tr><td>Netherlands</td><td>10</td></tr><tr><td>Germany</td><td>9</td></tr><tr><td>Nigeria</td><td>9</td></tr><tr><td>Mexico</td><td>8</td></tr><tr><td>New Zealand</td><td>8</td></tr><tr><td>Republic of Korea</td><td>7</td></tr><tr><td>Great Britain</td><td>7</td></tr><tr><td>Brazil</td><td>7</td></tr><tr><td>Greece</td><td>6</td></tr><tr><td>Chile</td><td>6</td></tr><tr><td>Dominican Republic</td><td>6</td></tr><tr><td>Côte d'Ivoire</td><td>5</td></tr><tr><td>Belgium</td><td>5</td></tr><tr><td>India</td><td>5</td></tr><tr><td>Kenya</td><td>5</td></tr><tr><td>Serbia</td><td>5</td></tr><tr><td>Ukraine</td><td>4</td></tr><tr><td>Hungary</td><td>4</td></tr><tr><td>Sweden</td><td>3</td></tr><tr><td>Puerto Rico</td><td>3</td></tr><tr><td>Norway</td><td>3</td></tr><tr><td>Ireland</td><td>3</td></tr><tr><td>Slovenia</td><td>3</td></tr><tr><td>Poland</td><td>3</td></tr><tr><td>Austria</td><td>3</td></tr><tr><td>Islamic Republic of Iran</td><td>2</td></tr><tr><td>Fiji</td><td>2</td></tr><tr><td>San Marino</td><td>2</td></tr><tr><td>Denmark</td><td>2</td></tr><tr><td>Israel</td><td>2</td></tr><tr><td>Montenegro</td><td>2</td></tr><tr><td>Saudi Arabia</td><td>2</td></tr><tr><td>Zambia</td><td>2</td></tr><tr><td>Czech Republic</td><td>2</td></tr><tr><td>Romania</td><td>2</td></tr><tr><td>Kazakhstan</td><td>2</td></tr><tr><td>Colombia</td><td>2</td></tr><tr><td>Turkey</td><td>1</td></tr><tr><td>Cambodia</td><td>1</td></tr><tr><td>Slovakia</td><td>1</td></tr><tr><td>Angola</td><td>1</td></tr><tr><td>Belarus</td><td>1</td></tr><tr><td>Croatia</td><td>1</td></tr><tr><td>Liechtenstein</td><td>1</td></tr><tr><td>Tunisia</td><td>1</td></tr><tr><td>Honduras</td><td>1</td></tr><tr><td>Portugal</td><td>1</td></tr><tr><td>Bahrain</td><td>1</td></tr></tbody></table></div>"
      ]
     },
     "metadata": {
      "application/vnd.databricks.v1+output": {
       "addedWidgets": {},
       "aggData": [],
       "aggError": "",
       "aggOverflow": false,
       "aggSchema": [],
       "aggSeriesLimitReached": false,
       "aggType": "",
       "arguments": {},
       "columnCustomDisplayInfos": {},
       "data": [
        [
         "Japan",
         35
        ],
        [
         "Spain",
         28
        ],
        [
         "United States of America",
         28
        ],
        [
         "Australia",
         22
        ],
        [
         "Canada",
         16
        ],
        [
         "Italy",
         14
        ],
        [
         "People's Republic of China",
         12
        ],
        [
         "Egypt",
         12
        ],
        [
         "South Africa",
         12
        ],
        [
         "ROC",
         12
        ],
        [
         "Argentina",
         11
        ],
        [
         "France",
         10
        ],
        [
         "Venezuela",
         10
        ],
        [
         "Netherlands",
         10
        ],
        [
         "Germany",
         9
        ],
        [
         "Nigeria",
         9
        ],
        [
         "Mexico",
         8
        ],
        [
         "New Zealand",
         8
        ],
        [
         "Republic of Korea",
         7
        ],
        [
         "Great Britain",
         7
        ],
        [
         "Brazil",
         7
        ],
        [
         "Greece",
         6
        ],
        [
         "Chile",
         6
        ],
        [
         "Dominican Republic",
         6
        ],
        [
         "Côte d'Ivoire",
         5
        ],
        [
         "Belgium",
         5
        ],
        [
         "India",
         5
        ],
        [
         "Kenya",
         5
        ],
        [
         "Serbia",
         5
        ],
        [
         "Ukraine",
         4
        ],
        [
         "Hungary",
         4
        ],
        [
         "Sweden",
         3
        ],
        [
         "Puerto Rico",
         3
        ],
        [
         "Norway",
         3
        ],
        [
         "Ireland",
         3
        ],
        [
         "Slovenia",
         3
        ],
        [
         "Poland",
         3
        ],
        [
         "Austria",
         3
        ],
        [
         "Islamic Republic of Iran",
         2
        ],
        [
         "Fiji",
         2
        ],
        [
         "San Marino",
         2
        ],
        [
         "Denmark",
         2
        ],
        [
         "Israel",
         2
        ],
        [
         "Montenegro",
         2
        ],
        [
         "Saudi Arabia",
         2
        ],
        [
         "Zambia",
         2
        ],
        [
         "Czech Republic",
         2
        ],
        [
         "Romania",
         2
        ],
        [
         "Kazakhstan",
         2
        ],
        [
         "Colombia",
         2
        ],
        [
         "Turkey",
         1
        ],
        [
         "Cambodia",
         1
        ],
        [
         "Slovakia",
         1
        ],
        [
         "Angola",
         1
        ],
        [
         "Belarus",
         1
        ],
        [
         "Croatia",
         1
        ],
        [
         "Liechtenstein",
         1
        ],
        [
         "Tunisia",
         1
        ],
        [
         "Honduras",
         1
        ],
        [
         "Portugal",
         1
        ],
        [
         "Bahrain",
         1
        ]
       ],
       "datasetInfos": [],
       "dbfsResultPath": null,
       "isJsonSchema": true,
       "metadata": {},
       "overflow": false,
       "plotOptions": {
        "customPlotOptions": {},
        "displayType": "table",
        "pivotAggregation": null,
        "pivotColumns": null,
        "xColumns": null,
        "yColumns": null
       },
       "removedWidgets": [],
       "schema": [
        {
         "metadata": "{}",
         "name": "country",
         "type": "\"string\""
        },
        {
         "metadata": "{}",
         "name": "coaches",
         "type": "\"long\""
        }
       ],
       "type": "table"
      }
     },
     "output_type": "display_data"
    }
   ],
   "source": [
    "%sql\n",
    "SELECT country, COUNT(*) AS coaches\n",
    "FROM coaches\n",
    "GROUP BY country\n",
    "ORDER BY coaches DESC;"
   ]
  },
  {
   "cell_type": "code",
   "execution_count": 0,
   "metadata": {
    "application/vnd.databricks.v1+cell": {
     "cellMetadata": {
      "byteLimit": 2048000,
      "rowLimit": 10000
     },
     "inputWidgets": {},
     "nuid": "47e96ce6-350f-44c2-8b02-d8c6d4da1bbb",
     "showTitle": false,
     "title": ""
    }
   },
   "outputs": [],
   "source": [
    "coaches = coaches.drop('event')"
   ]
  },
  {
   "cell_type": "code",
   "execution_count": 0,
   "metadata": {
    "application/vnd.databricks.v1+cell": {
     "cellMetadata": {
      "byteLimit": 2048000,
      "rowLimit": 10000
     },
     "inputWidgets": {},
     "nuid": "2862e0b4-8011-4a5f-8f8e-fd1ab5e94c84",
     "showTitle": false,
     "title": ""
    }
   },
   "outputs": [
    {
     "output_type": "stream",
     "name": "stdout",
     "output_type": "stream",
     "text": [
      "+--------------------+--------------------+-----------------+\n|                name|             country|       discipline|\n+--------------------+--------------------+-----------------+\n|     ABDELMAGID Wael|               Egypt|         Football|\n|           ABE Junya|               Japan|       Volleyball|\n|       ABE Katsuhiko|               Japan|       Basketball|\n|        ADAMA Cherif|       Côte d'Ivoire|         Football|\n|          AGEBA Yuya|               Japan|       Volleyball|\n|AIKMAN Siegfried ...|               Japan|           Hockey|\n|       AL SAADI Kais|             Germany|           Hockey|\n|       ALAMEDA Lonni|              Canada|Baseball/Softball|\n|     ALEKNO Vladimir|Islamic Republic ...|       Volleyball|\n|     ALEKSEEV Alexey|                 ROC|         Handball|\n|ALLER CARBALLO Ma...|               Spain|       Basketball|\n|       ALSHEHRI Saad|        Saudi Arabia|         Football|\n|           ALY Kamal|               Egypt|         Football|\n| AMAYA GAITAN Fabian|         Puerto Rico|       Basketball|\n|    AMO AGUADO Pablo|               Spain|         Football|\n|   ANDONOVSKI Vlatko|United States of ...|         Football|\n|        ANNAN Alyson|         Netherlands|           Hockey|\n|  ARNAU CREUS Xavier|               Japan|           Hockey|\n|       ARNOLD Graham|           Australia|         Football|\n|         AXNER Tomas|              Sweden|         Handball|\n+--------------------+--------------------+-----------------+\nonly showing top 20 rows\n\n"
     ]
    }
   ],
   "source": [
    "coaches.show()"
   ]
  },
  {
   "cell_type": "code",
   "execution_count": 0,
   "metadata": {
    "application/vnd.databricks.v1+cell": {
     "cellMetadata": {
      "byteLimit": 2048000,
      "rowLimit": 10000
     },
     "inputWidgets": {},
     "nuid": "e570d08a-8d65-43a5-b7d3-53a25dc92b8f",
     "showTitle": true,
     "title": "Genders Data"
    }
   },
   "outputs": [
    {
     "output_type": "stream",
     "name": "stdout",
     "output_type": "stream",
     "text": [
      "+---------------------+------+----+-----+\n|Discipline           |Female|Male|Total|\n+---------------------+------+----+-----+\n|3x3 Basketball       |32    |32  |64   |\n|Archery              |64    |64  |128  |\n|Artistic Gymnastics  |98    |98  |196  |\n|Artistic Swimming    |105   |0   |105  |\n|Athletics            |969   |1072|2041 |\n|Badminton            |86    |87  |173  |\n|Baseball/Softball    |90    |144 |234  |\n|Basketball           |144   |144 |288  |\n|Beach Volleyball     |48    |48  |96   |\n|Boxing               |102   |187 |289  |\n|Canoe Slalom         |41    |41  |82   |\n|Canoe Sprint         |123   |126 |249  |\n|Cycling BMX Freestyle|10    |9   |19   |\n|Cycling BMX Racing   |24    |24  |48   |\n|Cycling Mountain Bike|38    |38  |76   |\n|Cycling Road         |70    |131 |201  |\n|Cycling Track        |90    |99  |189  |\n|Diving               |72    |71  |143  |\n|Equestrian           |73    |125 |198  |\n|Fencing              |107   |108 |215  |\n+---------------------+------+----+-----+\nonly showing top 20 rows\n\n"
     ]
    }
   ],
   "source": [
    "entriesgender.show(truncate=False)"
   ]
  },
  {
   "cell_type": "code",
   "execution_count": 0,
   "metadata": {
    "application/vnd.databricks.v1+cell": {
     "cellMetadata": {
      "byteLimit": 2048000,
      "rowLimit": 10000
     },
     "inputWidgets": {},
     "nuid": "ae4400e1-4b4c-4f85-9c4a-5ca513ecbcdd",
     "showTitle": false,
     "title": ""
    }
   },
   "outputs": [
    {
     "output_type": "stream",
     "name": "stdout",
     "output_type": "stream",
     "text": [
      "root\n |-- Discipline: string (nullable = true)\n |-- Female: integer (nullable = true)\n |-- Male: integer (nullable = true)\n |-- Total: integer (nullable = true)\n\n"
     ]
    }
   ],
   "source": [
    "entriesgender.printSchema()"
   ]
  },
  {
   "cell_type": "code",
   "execution_count": 0,
   "metadata": {
    "application/vnd.databricks.v1+cell": {
     "cellMetadata": {
      "byteLimit": 2048000,
      "rowLimit": 10000
     },
     "inputWidgets": {},
     "nuid": "fd6bf594-4cca-48ef-8771-c0378a1a18b2",
     "showTitle": false,
     "title": ""
    }
   },
   "outputs": [],
   "source": [
    "entriesgender = entriesgender.withColumn(\"Female\",col(\"Female\").cast(IntegerType()))\\\n",
    "                             .withColumn(\"Male\",col(\"Male\").cast(IntegerType()))\\\n",
    "                             .withColumn(\"Total\",col(\"Total\").cast(IntegerType()))"
   ]
  },
  {
   "cell_type": "code",
   "execution_count": 0,
   "metadata": {
    "application/vnd.databricks.v1+cell": {
     "cellMetadata": {
      "byteLimit": 2048000,
      "rowLimit": 10000
     },
     "inputWidgets": {},
     "nuid": "1bf51019-29a0-4eeb-ba52-b1253369243d",
     "showTitle": false,
     "title": ""
    }
   },
   "outputs": [],
   "source": [
    "entriesgender = entriesgender.withColumnRenamed('Female', 'female_entries') \\\n",
    "                            .withColumnRenamed('Male', 'male_entries') \\\n",
    "                            .withColumnRenamed('Total', 'total_entries')"
   ]
  },
  {
   "cell_type": "code",
   "execution_count": 0,
   "metadata": {
    "application/vnd.databricks.v1+cell": {
     "cellMetadata": {
      "byteLimit": 2048000,
      "rowLimit": 10000
     },
     "inputWidgets": {},
     "nuid": "60683e01-d5c8-4c30-802e-7bfaf6bc85ae",
     "showTitle": true,
     "title": "Medals Data"
    }
   },
   "outputs": [
    {
     "output_type": "stream",
     "name": "stdout",
     "output_type": "stream",
     "text": [
      "+----+--------------------+----+------+------+-----+-------------+\n|Rank|            Team/NOC|Gold|Silver|Bronze|Total|Rank by Total|\n+----+--------------------+----+------+------+-----+-------------+\n|   1|United States of ...|  39|    41|    33|  113|            1|\n|   2|People's Republic...|  38|    32|    18|   88|            2|\n|   3|               Japan|  27|    14|    17|   58|            5|\n|   4|       Great Britain|  22|    21|    22|   65|            4|\n|   5|                 ROC|  20|    28|    23|   71|            3|\n|   6|           Australia|  17|     7|    22|   46|            6|\n|   7|         Netherlands|  10|    12|    14|   36|            9|\n|   8|              France|  10|    12|    11|   33|           10|\n|   9|             Germany|  10|    11|    16|   37|            8|\n|  10|               Italy|  10|    10|    20|   40|            7|\n|  11|              Canada|   7|     6|    11|   24|           11|\n|  12|              Brazil|   7|     6|     8|   21|           12|\n|  13|         New Zealand|   7|     6|     7|   20|           13|\n|  14|                Cuba|   7|     3|     5|   15|           18|\n|  15|             Hungary|   6|     7|     7|   20|           13|\n|  16|   Republic of Korea|   6|     4|    10|   20|           13|\n|  17|              Poland|   4|     5|     5|   14|           19|\n|  18|      Czech Republic|   4|     4|     3|   11|           23|\n|  19|               Kenya|   4|     4|     2|   10|           25|\n|  20|              Norway|   4|     2|     2|    8|           29|\n+----+--------------------+----+------+------+-----+-------------+\nonly showing top 20 rows\n\n"
     ]
    }
   ],
   "source": [
    "medals.show()"
   ]
  },
  {
   "cell_type": "code",
   "execution_count": 0,
   "metadata": {
    "application/vnd.databricks.v1+cell": {
     "cellMetadata": {
      "byteLimit": 2048000,
      "rowLimit": 10000
     },
     "inputWidgets": {},
     "nuid": "b0e40c3b-751c-4002-af17-ec2135f9d293",
     "showTitle": false,
     "title": ""
    }
   },
   "outputs": [
    {
     "output_type": "stream",
     "name": "stdout",
     "output_type": "stream",
     "text": [
      "root\n |-- Rank: integer (nullable = true)\n |-- Team/NOC: string (nullable = true)\n |-- Gold: integer (nullable = true)\n |-- Silver: integer (nullable = true)\n |-- Bronze: integer (nullable = true)\n |-- Total: integer (nullable = true)\n |-- Rank by Total: integer (nullable = true)\n\n"
     ]
    }
   ],
   "source": [
    "medals.printSchema()"
   ]
  },
  {
   "cell_type": "code",
   "execution_count": 0,
   "metadata": {
    "application/vnd.databricks.v1+cell": {
     "cellMetadata": {
      "byteLimit": 2048000,
      "rowLimit": 10000
     },
     "inputWidgets": {},
     "nuid": "a6153d7e-e4c5-4ec6-a0dc-8ca3b0f0778c",
     "showTitle": false,
     "title": ""
    }
   },
   "outputs": [],
   "source": [
    "medals = medals.withColumnRenamed('Team/NOC', 'country') \\\n",
    "                .withColumnRenamed('Gold', 'gold') \\\n",
    "                .withColumnRenamed('Silver', 'silver') \\\n",
    "                .withColumnRenamed('Bronze', 'bronze') \\\n",
    "                .withColumnRenamed('Total', 'total') \\\n",
    "                .withColumnRenamed('Rank by Total', 'ranking')"
   ]
  },
  {
   "cell_type": "code",
   "execution_count": 0,
   "metadata": {
    "application/vnd.databricks.v1+cell": {
     "cellMetadata": {
      "byteLimit": 2048000,
      "rowLimit": 10000
     },
     "inputWidgets": {},
     "nuid": "be4a166e-f2e6-442f-85dd-e1e432aa8d57",
     "showTitle": false,
     "title": ""
    }
   },
   "outputs": [
    {
     "output_type": "stream",
     "name": "stdout",
     "output_type": "stream",
     "text": [
      "+----+--------------------------+----+------+------+-----+-------+\n|Rank|country                   |gold|silver|bronze|total|ranking|\n+----+--------------------------+----+------+------+-----+-------+\n|1   |United States of America  |39  |41    |33    |113  |1      |\n|2   |People's Republic of China|38  |32    |18    |88   |2      |\n|3   |Japan                     |27  |14    |17    |58   |5      |\n|4   |Great Britain             |22  |21    |22    |65   |4      |\n|5   |ROC                       |20  |28    |23    |71   |3      |\n|6   |Australia                 |17  |7     |22    |46   |6      |\n|7   |Netherlands               |10  |12    |14    |36   |9      |\n|8   |France                    |10  |12    |11    |33   |10     |\n|9   |Germany                   |10  |11    |16    |37   |8      |\n|10  |Italy                     |10  |10    |20    |40   |7      |\n|11  |Canada                    |7   |6     |11    |24   |11     |\n|12  |Brazil                    |7   |6     |8     |21   |12     |\n|13  |New Zealand               |7   |6     |7     |20   |13     |\n|14  |Cuba                      |7   |3     |5     |15   |18     |\n|15  |Hungary                   |6   |7     |7     |20   |13     |\n|16  |Republic of Korea         |6   |4     |10    |20   |13     |\n|17  |Poland                    |4   |5     |5     |14   |19     |\n|18  |Czech Republic            |4   |4     |3     |11   |23     |\n|19  |Kenya                     |4   |4     |2     |10   |25     |\n|20  |Norway                    |4   |2     |2     |8    |29     |\n+----+--------------------------+----+------+------+-----+-------+\nonly showing top 20 rows\n\n"
     ]
    }
   ],
   "source": [
    "medals.show(truncate=False)"
   ]
  },
  {
   "cell_type": "code",
   "execution_count": 0,
   "metadata": {
    "application/vnd.databricks.v1+cell": {
     "cellMetadata": {
      "byteLimit": 2048000,
      "rowLimit": 10000
     },
     "inputWidgets": {},
     "nuid": "d4ce6f73-fa51-448c-bc9b-6939d5c2f63c",
     "showTitle": true,
     "title": "Teams Data"
    }
   },
   "outputs": [
    {
     "output_type": "stream",
     "name": "stdout",
     "output_type": "stream",
     "text": [
      "+-------------+--------------+--------------------------+------------+\n|Name         |Discipline    |NOC                       |Event       |\n+-------------+--------------+--------------------------+------------+\n|Belgium      |3x3 Basketball|Belgium                   |Men         |\n|China        |3x3 Basketball|People's Republic of China|Men         |\n|China        |3x3 Basketball|People's Republic of China|Women       |\n|France       |3x3 Basketball|France                    |Women       |\n|Italy        |3x3 Basketball|Italy                     |Women       |\n|Japan        |3x3 Basketball|Japan                     |Men         |\n|Japan        |3x3 Basketball|Japan                     |Women       |\n|Latvia       |3x3 Basketball|Latvia                    |Men         |\n|Mongolia     |3x3 Basketball|Mongolia                  |Women       |\n|Netherlands  |3x3 Basketball|Netherlands               |Men         |\n|Poland       |3x3 Basketball|Poland                    |Men         |\n|ROC          |3x3 Basketball|ROC                       |Men         |\n|ROC          |3x3 Basketball|ROC                       |Women       |\n|Romania      |3x3 Basketball|Romania                   |Women       |\n|Serbia       |3x3 Basketball|Serbia                    |Men         |\n|United States|3x3 Basketball|United States of America  |Women       |\n|Australia    |Archery       |Australia                 |Men's Team  |\n|Australia    |Archery       |Australia                 |Mixed Team  |\n|Bangladesh   |Archery       |Bangladesh                |Mixed Team  |\n|Belarus      |Archery       |Belarus                   |Women's Team|\n+-------------+--------------+--------------------------+------------+\nonly showing top 20 rows\n\n"
     ]
    }
   ],
   "source": [
    "teams.show(truncate=False)"
   ]
  },
  {
   "cell_type": "code",
   "execution_count": 0,
   "metadata": {
    "application/vnd.databricks.v1+cell": {
     "cellMetadata": {
      "byteLimit": 2048000,
      "rowLimit": 10000
     },
     "inputWidgets": {},
     "nuid": "56483de5-a393-4ce7-879f-2374e08f510e",
     "showTitle": false,
     "title": ""
    }
   },
   "outputs": [
    {
     "output_type": "stream",
     "name": "stdout",
     "output_type": "stream",
     "text": [
      "root\n |-- Name: string (nullable = true)\n |-- Discipline: string (nullable = true)\n |-- NOC: string (nullable = true)\n |-- Event: string (nullable = true)\n\n"
     ]
    }
   ],
   "source": [
    "teams.printSchema()"
   ]
  },
  {
   "cell_type": "code",
   "execution_count": 0,
   "metadata": {
    "application/vnd.databricks.v1+cell": {
     "cellMetadata": {
      "byteLimit": 2048000,
      "rowLimit": 10000
     },
     "inputWidgets": {},
     "nuid": "88c07576-93f0-4b48-a6ef-29ed7ccfc7b2",
     "showTitle": false,
     "title": ""
    }
   },
   "outputs": [],
   "source": [
    "teams = teams.withColumnRenamed('Name', 'team') \\\n",
    "              .withColumnRenamed('Discipline', 'discipline') \\\n",
    "              .withColumnRenamed('NOC', 'country') \\\n",
    "              .withColumnRenamed('Event', 'event')"
   ]
  },
  {
   "cell_type": "code",
   "execution_count": 0,
   "metadata": {
    "application/vnd.databricks.v1+cell": {
     "cellMetadata": {
      "byteLimit": 2048000,
      "rowLimit": 10000
     },
     "inputWidgets": {},
     "nuid": "8bd6fd87-5a77-4493-b7c7-f9f754dc382d",
     "showTitle": false,
     "title": ""
    }
   },
   "outputs": [
    {
     "output_type": "stream",
     "name": "stdout",
     "output_type": "stream",
     "text": [
      "+-------------+--------------+--------------------------+------------+\n|team         |discipline    |country                   |event       |\n+-------------+--------------+--------------------------+------------+\n|Belgium      |3x3 Basketball|Belgium                   |Men         |\n|China        |3x3 Basketball|People's Republic of China|Men         |\n|China        |3x3 Basketball|People's Republic of China|Women       |\n|France       |3x3 Basketball|France                    |Women       |\n|Italy        |3x3 Basketball|Italy                     |Women       |\n|Japan        |3x3 Basketball|Japan                     |Men         |\n|Japan        |3x3 Basketball|Japan                     |Women       |\n|Latvia       |3x3 Basketball|Latvia                    |Men         |\n|Mongolia     |3x3 Basketball|Mongolia                  |Women       |\n|Netherlands  |3x3 Basketball|Netherlands               |Men         |\n|Poland       |3x3 Basketball|Poland                    |Men         |\n|ROC          |3x3 Basketball|ROC                       |Men         |\n|ROC          |3x3 Basketball|ROC                       |Women       |\n|Romania      |3x3 Basketball|Romania                   |Women       |\n|Serbia       |3x3 Basketball|Serbia                    |Men         |\n|United States|3x3 Basketball|United States of America  |Women       |\n|Australia    |Archery       |Australia                 |Men's Team  |\n|Australia    |Archery       |Australia                 |Mixed Team  |\n|Bangladesh   |Archery       |Bangladesh                |Mixed Team  |\n|Belarus      |Archery       |Belarus                   |Women's Team|\n+-------------+--------------+--------------------------+------------+\nonly showing top 20 rows\n\n"
     ]
    }
   ],
   "source": [
    "teams.show(truncate=False)"
   ]
  },
  {
   "cell_type": "code",
   "execution_count": 0,
   "metadata": {
    "application/vnd.databricks.v1+cell": {
     "cellMetadata": {
      "byteLimit": 2048000,
      "rowLimit": 10000
     },
     "inputWidgets": {},
     "nuid": "bb281724-0557-4408-b5f0-d8df2ae9f355",
     "showTitle": false,
     "title": ""
    }
   },
   "outputs": [],
   "source": [
    "atheletes.repartition(1).write.mode(\"overwrite\").option(\"header\",'true').csv(\"/mnt/tokyoolympic/transformed-data/atheletes\")\n",
    "coaches.repartition(1).write.mode(\"overwrite\").option(\"header\",\"true\").csv(\"/mnt/tokyoolympic/transformed-data/coaches\")\n",
    "entriesgender.repartition(1).write.mode(\"overwrite\").option(\"header\",\"true\").csv(\"/mnt/tokyoolympic/transformed-data/entriesgender\")\n",
    "medals.repartition(1).write.mode(\"overwrite\").option(\"header\",\"true\").csv(\"/mnt/tokyoolympic/transformed-data/medals\")\n",
    "teams.repartition(1).write.mode(\"overwrite\").option(\"header\",\"true\").csv(\"/mnt/tokyoolympic/transformed-data/teams\")"
   ]
  },
  {
   "cell_type": "code",
   "execution_count": 0,
   "metadata": {
    "application/vnd.databricks.v1+cell": {
     "cellMetadata": {
      "byteLimit": 2048000,
      "rowLimit": 10000
     },
     "inputWidgets": {},
     "nuid": "fa4b236a-abc0-434b-a2a1-4530d452a21f",
     "showTitle": false,
     "title": ""
    }
   },
   "outputs": [
    {
     "output_type": "stream",
     "name": "stdout",
     "output_type": "stream",
     "text": [
      "+-------+------------------+---------+------------------+------------------+-----------------+------------------+------------------+\n|summary|              Rank|  country|              gold|            silver|           bronze|             total|           ranking|\n+-------+------------------+---------+------------------+------------------+-----------------+------------------+------------------+\n|  count|                93|       93|                93|                93|               93|                93|                93|\n|   mean|46.333333333333336|     null|3.6559139784946235|3.6344086021505375| 4.32258064516129|11.612903225806452|43.494623655913976|\n| stddev| 26.21911571707764|     null| 7.022471111671379| 6.626338988947588|6.210372267639422| 19.09133212041102|24.171769221603906|\n|    min|                 1|Argentina|                 0|                 0|                0|                 1|                 1|\n|    max|                86|Venezuela|                39|                41|               33|               113|                77|\n+-------+------------------+---------+------------------+------------------+-----------------+------------------+------------------+\n\n"
     ]
    }
   ],
   "source": [
    "medals.describe().show()"
   ]
  },
  {
   "cell_type": "code",
   "execution_count": 0,
   "metadata": {
    "application/vnd.databricks.v1+cell": {
     "cellMetadata": {
      "byteLimit": 2048000,
      "rowLimit": 10000
     },
     "inputWidgets": {},
     "nuid": "067bd065-a028-4ab5-9c35-2e3ce83fc90f",
     "showTitle": false,
     "title": ""
    }
   },
   "outputs": [
    {
     "output_type": "stream",
     "name": "stdout",
     "output_type": "stream",
     "text": [
      "+--------------------------+--------+-------------+\n|name                      |country |discipline   |\n+--------------------------+--------+-------------+\n|AKHTAR Muhammad Khalil    |Pakistan|Shooting     |\n|BASHIR Ghulam Mustafa     |Pakistan|Shooting     |\n|JOSEPH Gulfam             |Pakistan|Shooting     |\n|KHAN Bisma                |Pakistan|Swimming     |\n|NADEEM Arshad             |Pakistan|Athletics    |\n|PARVEEN Najma             |Pakistan|Athletics    |\n|SHAH Shah Hussain         |Pakistan|Judo         |\n|SHAHZAD Mahoor            |Pakistan|Badminton    |\n|TALIB Talha               |Pakistan|Weightlifting|\n|TARIQ Syed Muhammad Haseeb|Pakistan|Swimming     |\n+--------------------------+--------+-------------+\n\n"
     ]
    }
   ],
   "source": [
    "atheletes.filter(atheletes['country'] == 'Pakistan').show(truncate=False)"
   ]
  }
 ],
 "metadata": {
  "application/vnd.databricks.v1+notebook": {
   "dashboards": [],
   "language": "python",
   "notebookMetadata": {
    "mostRecentlyExecutedCommandWithImplicitDF": {
     "commandId": 2577924744059796,
     "dataframes": [
      "_sqldf"
     ]
    },
    "pythonIndentUnit": 4
   },
   "notebookName": "tokyo_olympics_data_transformation",
   "widgets": {}
  }
 },
 "nbformat": 4,
 "nbformat_minor": 0
}
